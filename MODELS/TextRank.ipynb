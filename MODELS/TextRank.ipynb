{
  "nbformat": 4,
  "nbformat_minor": 0,
  "metadata": {
    "colab": {
      "provenance": []
    },
    "kernelspec": {
      "name": "python3",
      "display_name": "Python 3"
    },
    "language_info": {
      "name": "python"
    },
    "widgets": {
      "application/vnd.jupyter.widget-state+json": {
        "2207c11310c141dba73d91d922309501": {
          "model_module": "@jupyter-widgets/controls",
          "model_name": "HBoxModel",
          "model_module_version": "1.5.0",
          "state": {
            "_dom_classes": [],
            "_model_module": "@jupyter-widgets/controls",
            "_model_module_version": "1.5.0",
            "_model_name": "HBoxModel",
            "_view_count": null,
            "_view_module": "@jupyter-widgets/controls",
            "_view_module_version": "1.5.0",
            "_view_name": "HBoxView",
            "box_style": "",
            "children": [
              "IPY_MODEL_ccddc08e8dc34872a9aac283af9edec8",
              "IPY_MODEL_97ed7539c79a4040aaa382e25e084b19",
              "IPY_MODEL_ccbd5be493754e97a5eb3adf19821e53"
            ],
            "layout": "IPY_MODEL_919dfbde6f694999ac8ff3b47d39ecce"
          }
        },
        "ccddc08e8dc34872a9aac283af9edec8": {
          "model_module": "@jupyter-widgets/controls",
          "model_name": "HTMLModel",
          "model_module_version": "1.5.0",
          "state": {
            "_dom_classes": [],
            "_model_module": "@jupyter-widgets/controls",
            "_model_module_version": "1.5.0",
            "_model_name": "HTMLModel",
            "_view_count": null,
            "_view_module": "@jupyter-widgets/controls",
            "_view_module_version": "1.5.0",
            "_view_name": "HTMLView",
            "description": "",
            "description_tooltip": null,
            "layout": "IPY_MODEL_8d6a94f96f0e4b73acc641a52c73b601",
            "placeholder": "​",
            "style": "IPY_MODEL_9dac950b42334cd2a269c693d8f3c293",
            "value": "crisisfacts/003/2018-08-09 documents: "
          }
        },
        "97ed7539c79a4040aaa382e25e084b19": {
          "model_module": "@jupyter-widgets/controls",
          "model_name": "FloatProgressModel",
          "model_module_version": "1.5.0",
          "state": {
            "_dom_classes": [],
            "_model_module": "@jupyter-widgets/controls",
            "_model_module_version": "1.5.0",
            "_model_name": "FloatProgressModel",
            "_view_count": null,
            "_view_module": "@jupyter-widgets/controls",
            "_view_module_version": "1.5.0",
            "_view_name": "ProgressView",
            "bar_style": "success",
            "description": "",
            "description_tooltip": null,
            "layout": "IPY_MODEL_82113339f244411c9ab2612c91683e23",
            "max": 1,
            "min": 0,
            "orientation": "horizontal",
            "style": "IPY_MODEL_3171a6c7c3f54622b96257063b829c4b",
            "value": 1
          }
        },
        "ccbd5be493754e97a5eb3adf19821e53": {
          "model_module": "@jupyter-widgets/controls",
          "model_name": "HTMLModel",
          "model_module_version": "1.5.0",
          "state": {
            "_dom_classes": [],
            "_model_module": "@jupyter-widgets/controls",
            "_model_module_version": "1.5.0",
            "_model_name": "HTMLModel",
            "_view_count": null,
            "_view_module": "@jupyter-widgets/controls",
            "_view_module_version": "1.5.0",
            "_view_name": "HTMLView",
            "description": "",
            "description_tooltip": null,
            "layout": "IPY_MODEL_890bdfdbf0404aa7abb949ee39a8522a",
            "placeholder": "​",
            "style": "IPY_MODEL_44b10957ee1949ce8d32c42ff1dd2105",
            "value": " 5984/? [00:01&lt;00:00, 3688.06it/s]"
          }
        },
        "919dfbde6f694999ac8ff3b47d39ecce": {
          "model_module": "@jupyter-widgets/base",
          "model_name": "LayoutModel",
          "model_module_version": "1.2.0",
          "state": {
            "_model_module": "@jupyter-widgets/base",
            "_model_module_version": "1.2.0",
            "_model_name": "LayoutModel",
            "_view_count": null,
            "_view_module": "@jupyter-widgets/base",
            "_view_module_version": "1.2.0",
            "_view_name": "LayoutView",
            "align_content": null,
            "align_items": null,
            "align_self": null,
            "border": null,
            "bottom": null,
            "display": null,
            "flex": null,
            "flex_flow": null,
            "grid_area": null,
            "grid_auto_columns": null,
            "grid_auto_flow": null,
            "grid_auto_rows": null,
            "grid_column": null,
            "grid_gap": null,
            "grid_row": null,
            "grid_template_areas": null,
            "grid_template_columns": null,
            "grid_template_rows": null,
            "height": null,
            "justify_content": null,
            "justify_items": null,
            "left": null,
            "margin": null,
            "max_height": null,
            "max_width": null,
            "min_height": null,
            "min_width": null,
            "object_fit": null,
            "object_position": null,
            "order": null,
            "overflow": null,
            "overflow_x": null,
            "overflow_y": null,
            "padding": null,
            "right": null,
            "top": null,
            "visibility": null,
            "width": null
          }
        },
        "8d6a94f96f0e4b73acc641a52c73b601": {
          "model_module": "@jupyter-widgets/base",
          "model_name": "LayoutModel",
          "model_module_version": "1.2.0",
          "state": {
            "_model_module": "@jupyter-widgets/base",
            "_model_module_version": "1.2.0",
            "_model_name": "LayoutModel",
            "_view_count": null,
            "_view_module": "@jupyter-widgets/base",
            "_view_module_version": "1.2.0",
            "_view_name": "LayoutView",
            "align_content": null,
            "align_items": null,
            "align_self": null,
            "border": null,
            "bottom": null,
            "display": null,
            "flex": null,
            "flex_flow": null,
            "grid_area": null,
            "grid_auto_columns": null,
            "grid_auto_flow": null,
            "grid_auto_rows": null,
            "grid_column": null,
            "grid_gap": null,
            "grid_row": null,
            "grid_template_areas": null,
            "grid_template_columns": null,
            "grid_template_rows": null,
            "height": null,
            "justify_content": null,
            "justify_items": null,
            "left": null,
            "margin": null,
            "max_height": null,
            "max_width": null,
            "min_height": null,
            "min_width": null,
            "object_fit": null,
            "object_position": null,
            "order": null,
            "overflow": null,
            "overflow_x": null,
            "overflow_y": null,
            "padding": null,
            "right": null,
            "top": null,
            "visibility": null,
            "width": null
          }
        },
        "9dac950b42334cd2a269c693d8f3c293": {
          "model_module": "@jupyter-widgets/controls",
          "model_name": "DescriptionStyleModel",
          "model_module_version": "1.5.0",
          "state": {
            "_model_module": "@jupyter-widgets/controls",
            "_model_module_version": "1.5.0",
            "_model_name": "DescriptionStyleModel",
            "_view_count": null,
            "_view_module": "@jupyter-widgets/base",
            "_view_module_version": "1.2.0",
            "_view_name": "StyleView",
            "description_width": ""
          }
        },
        "82113339f244411c9ab2612c91683e23": {
          "model_module": "@jupyter-widgets/base",
          "model_name": "LayoutModel",
          "model_module_version": "1.2.0",
          "state": {
            "_model_module": "@jupyter-widgets/base",
            "_model_module_version": "1.2.0",
            "_model_name": "LayoutModel",
            "_view_count": null,
            "_view_module": "@jupyter-widgets/base",
            "_view_module_version": "1.2.0",
            "_view_name": "LayoutView",
            "align_content": null,
            "align_items": null,
            "align_self": null,
            "border": null,
            "bottom": null,
            "display": null,
            "flex": null,
            "flex_flow": null,
            "grid_area": null,
            "grid_auto_columns": null,
            "grid_auto_flow": null,
            "grid_auto_rows": null,
            "grid_column": null,
            "grid_gap": null,
            "grid_row": null,
            "grid_template_areas": null,
            "grid_template_columns": null,
            "grid_template_rows": null,
            "height": null,
            "justify_content": null,
            "justify_items": null,
            "left": null,
            "margin": null,
            "max_height": null,
            "max_width": null,
            "min_height": null,
            "min_width": null,
            "object_fit": null,
            "object_position": null,
            "order": null,
            "overflow": null,
            "overflow_x": null,
            "overflow_y": null,
            "padding": null,
            "right": null,
            "top": null,
            "visibility": null,
            "width": "20px"
          }
        },
        "3171a6c7c3f54622b96257063b829c4b": {
          "model_module": "@jupyter-widgets/controls",
          "model_name": "ProgressStyleModel",
          "model_module_version": "1.5.0",
          "state": {
            "_model_module": "@jupyter-widgets/controls",
            "_model_module_version": "1.5.0",
            "_model_name": "ProgressStyleModel",
            "_view_count": null,
            "_view_module": "@jupyter-widgets/base",
            "_view_module_version": "1.2.0",
            "_view_name": "StyleView",
            "bar_color": null,
            "description_width": ""
          }
        },
        "890bdfdbf0404aa7abb949ee39a8522a": {
          "model_module": "@jupyter-widgets/base",
          "model_name": "LayoutModel",
          "model_module_version": "1.2.0",
          "state": {
            "_model_module": "@jupyter-widgets/base",
            "_model_module_version": "1.2.0",
            "_model_name": "LayoutModel",
            "_view_count": null,
            "_view_module": "@jupyter-widgets/base",
            "_view_module_version": "1.2.0",
            "_view_name": "LayoutView",
            "align_content": null,
            "align_items": null,
            "align_self": null,
            "border": null,
            "bottom": null,
            "display": null,
            "flex": null,
            "flex_flow": null,
            "grid_area": null,
            "grid_auto_columns": null,
            "grid_auto_flow": null,
            "grid_auto_rows": null,
            "grid_column": null,
            "grid_gap": null,
            "grid_row": null,
            "grid_template_areas": null,
            "grid_template_columns": null,
            "grid_template_rows": null,
            "height": null,
            "justify_content": null,
            "justify_items": null,
            "left": null,
            "margin": null,
            "max_height": null,
            "max_width": null,
            "min_height": null,
            "min_width": null,
            "object_fit": null,
            "object_position": null,
            "order": null,
            "overflow": null,
            "overflow_x": null,
            "overflow_y": null,
            "padding": null,
            "right": null,
            "top": null,
            "visibility": null,
            "width": null
          }
        },
        "44b10957ee1949ce8d32c42ff1dd2105": {
          "model_module": "@jupyter-widgets/controls",
          "model_name": "DescriptionStyleModel",
          "model_module_version": "1.5.0",
          "state": {
            "_model_module": "@jupyter-widgets/controls",
            "_model_module_version": "1.5.0",
            "_model_name": "DescriptionStyleModel",
            "_view_count": null,
            "_view_module": "@jupyter-widgets/base",
            "_view_module_version": "1.2.0",
            "_view_name": "StyleView",
            "description_width": ""
          }
        },
        "bd6678c1ea2b49c3b1f014f91c44fbc5": {
          "model_module": "@jupyter-widgets/controls",
          "model_name": "HBoxModel",
          "model_module_version": "1.5.0",
          "state": {
            "_dom_classes": [],
            "_model_module": "@jupyter-widgets/controls",
            "_model_module_version": "1.5.0",
            "_model_name": "HBoxModel",
            "_view_count": null,
            "_view_module": "@jupyter-widgets/controls",
            "_view_module_version": "1.5.0",
            "_view_name": "HBoxView",
            "box_style": "",
            "children": [
              "IPY_MODEL_fef69a2157ff4ce2991df4ff302eab50",
              "IPY_MODEL_91ffa354bf1c4f528ca79fb730cd312c",
              "IPY_MODEL_8723b279bf9e45468638332cd00d4e89"
            ],
            "layout": "IPY_MODEL_f7bb7a67762f4fddb36ec76b1cf8bef4"
          }
        },
        "fef69a2157ff4ce2991df4ff302eab50": {
          "model_module": "@jupyter-widgets/controls",
          "model_name": "HTMLModel",
          "model_module_version": "1.5.0",
          "state": {
            "_dom_classes": [],
            "_model_module": "@jupyter-widgets/controls",
            "_model_module_version": "1.5.0",
            "_model_name": "HTMLModel",
            "_view_count": null,
            "_view_module": "@jupyter-widgets/controls",
            "_view_module_version": "1.5.0",
            "_view_name": "HTMLView",
            "description": "",
            "description_tooltip": null,
            "layout": "IPY_MODEL_f9dd9de1e5824fffad879c579ae3a755",
            "placeholder": "​",
            "style": "IPY_MODEL_d85e49fe1efc4e0fb05a1fbb3e86502e",
            "value": "crisisfacts/006/2019-10-12 documents: "
          }
        },
        "91ffa354bf1c4f528ca79fb730cd312c": {
          "model_module": "@jupyter-widgets/controls",
          "model_name": "FloatProgressModel",
          "model_module_version": "1.5.0",
          "state": {
            "_dom_classes": [],
            "_model_module": "@jupyter-widgets/controls",
            "_model_module_version": "1.5.0",
            "_model_name": "FloatProgressModel",
            "_view_count": null,
            "_view_module": "@jupyter-widgets/controls",
            "_view_module_version": "1.5.0",
            "_view_name": "ProgressView",
            "bar_style": "success",
            "description": "",
            "description_tooltip": null,
            "layout": "IPY_MODEL_b3bd0684ad574cbf94bac7f2a5ee3e69",
            "max": 1,
            "min": 0,
            "orientation": "horizontal",
            "style": "IPY_MODEL_22021e3156814f698524a5ffce14934b",
            "value": 1
          }
        },
        "8723b279bf9e45468638332cd00d4e89": {
          "model_module": "@jupyter-widgets/controls",
          "model_name": "HTMLModel",
          "model_module_version": "1.5.0",
          "state": {
            "_dom_classes": [],
            "_model_module": "@jupyter-widgets/controls",
            "_model_module_version": "1.5.0",
            "_model_name": "HTMLModel",
            "_view_count": null,
            "_view_module": "@jupyter-widgets/controls",
            "_view_module_version": "1.5.0",
            "_view_name": "HTMLView",
            "description": "",
            "description_tooltip": null,
            "layout": "IPY_MODEL_30d56796e7634ee1a6521245e1a3e1f9",
            "placeholder": "​",
            "style": "IPY_MODEL_2b3cac3a78634b7c90d63ab3b9733113",
            "value": " 9364/? [00:04&lt;00:00, 1399.25it/s]"
          }
        },
        "f7bb7a67762f4fddb36ec76b1cf8bef4": {
          "model_module": "@jupyter-widgets/base",
          "model_name": "LayoutModel",
          "model_module_version": "1.2.0",
          "state": {
            "_model_module": "@jupyter-widgets/base",
            "_model_module_version": "1.2.0",
            "_model_name": "LayoutModel",
            "_view_count": null,
            "_view_module": "@jupyter-widgets/base",
            "_view_module_version": "1.2.0",
            "_view_name": "LayoutView",
            "align_content": null,
            "align_items": null,
            "align_self": null,
            "border": null,
            "bottom": null,
            "display": null,
            "flex": null,
            "flex_flow": null,
            "grid_area": null,
            "grid_auto_columns": null,
            "grid_auto_flow": null,
            "grid_auto_rows": null,
            "grid_column": null,
            "grid_gap": null,
            "grid_row": null,
            "grid_template_areas": null,
            "grid_template_columns": null,
            "grid_template_rows": null,
            "height": null,
            "justify_content": null,
            "justify_items": null,
            "left": null,
            "margin": null,
            "max_height": null,
            "max_width": null,
            "min_height": null,
            "min_width": null,
            "object_fit": null,
            "object_position": null,
            "order": null,
            "overflow": null,
            "overflow_x": null,
            "overflow_y": null,
            "padding": null,
            "right": null,
            "top": null,
            "visibility": null,
            "width": null
          }
        },
        "f9dd9de1e5824fffad879c579ae3a755": {
          "model_module": "@jupyter-widgets/base",
          "model_name": "LayoutModel",
          "model_module_version": "1.2.0",
          "state": {
            "_model_module": "@jupyter-widgets/base",
            "_model_module_version": "1.2.0",
            "_model_name": "LayoutModel",
            "_view_count": null,
            "_view_module": "@jupyter-widgets/base",
            "_view_module_version": "1.2.0",
            "_view_name": "LayoutView",
            "align_content": null,
            "align_items": null,
            "align_self": null,
            "border": null,
            "bottom": null,
            "display": null,
            "flex": null,
            "flex_flow": null,
            "grid_area": null,
            "grid_auto_columns": null,
            "grid_auto_flow": null,
            "grid_auto_rows": null,
            "grid_column": null,
            "grid_gap": null,
            "grid_row": null,
            "grid_template_areas": null,
            "grid_template_columns": null,
            "grid_template_rows": null,
            "height": null,
            "justify_content": null,
            "justify_items": null,
            "left": null,
            "margin": null,
            "max_height": null,
            "max_width": null,
            "min_height": null,
            "min_width": null,
            "object_fit": null,
            "object_position": null,
            "order": null,
            "overflow": null,
            "overflow_x": null,
            "overflow_y": null,
            "padding": null,
            "right": null,
            "top": null,
            "visibility": null,
            "width": null
          }
        },
        "d85e49fe1efc4e0fb05a1fbb3e86502e": {
          "model_module": "@jupyter-widgets/controls",
          "model_name": "DescriptionStyleModel",
          "model_module_version": "1.5.0",
          "state": {
            "_model_module": "@jupyter-widgets/controls",
            "_model_module_version": "1.5.0",
            "_model_name": "DescriptionStyleModel",
            "_view_count": null,
            "_view_module": "@jupyter-widgets/base",
            "_view_module_version": "1.2.0",
            "_view_name": "StyleView",
            "description_width": ""
          }
        },
        "b3bd0684ad574cbf94bac7f2a5ee3e69": {
          "model_module": "@jupyter-widgets/base",
          "model_name": "LayoutModel",
          "model_module_version": "1.2.0",
          "state": {
            "_model_module": "@jupyter-widgets/base",
            "_model_module_version": "1.2.0",
            "_model_name": "LayoutModel",
            "_view_count": null,
            "_view_module": "@jupyter-widgets/base",
            "_view_module_version": "1.2.0",
            "_view_name": "LayoutView",
            "align_content": null,
            "align_items": null,
            "align_self": null,
            "border": null,
            "bottom": null,
            "display": null,
            "flex": null,
            "flex_flow": null,
            "grid_area": null,
            "grid_auto_columns": null,
            "grid_auto_flow": null,
            "grid_auto_rows": null,
            "grid_column": null,
            "grid_gap": null,
            "grid_row": null,
            "grid_template_areas": null,
            "grid_template_columns": null,
            "grid_template_rows": null,
            "height": null,
            "justify_content": null,
            "justify_items": null,
            "left": null,
            "margin": null,
            "max_height": null,
            "max_width": null,
            "min_height": null,
            "min_width": null,
            "object_fit": null,
            "object_position": null,
            "order": null,
            "overflow": null,
            "overflow_x": null,
            "overflow_y": null,
            "padding": null,
            "right": null,
            "top": null,
            "visibility": null,
            "width": "20px"
          }
        },
        "22021e3156814f698524a5ffce14934b": {
          "model_module": "@jupyter-widgets/controls",
          "model_name": "ProgressStyleModel",
          "model_module_version": "1.5.0",
          "state": {
            "_model_module": "@jupyter-widgets/controls",
            "_model_module_version": "1.5.0",
            "_model_name": "ProgressStyleModel",
            "_view_count": null,
            "_view_module": "@jupyter-widgets/base",
            "_view_module_version": "1.2.0",
            "_view_name": "StyleView",
            "bar_color": null,
            "description_width": ""
          }
        },
        "30d56796e7634ee1a6521245e1a3e1f9": {
          "model_module": "@jupyter-widgets/base",
          "model_name": "LayoutModel",
          "model_module_version": "1.2.0",
          "state": {
            "_model_module": "@jupyter-widgets/base",
            "_model_module_version": "1.2.0",
            "_model_name": "LayoutModel",
            "_view_count": null,
            "_view_module": "@jupyter-widgets/base",
            "_view_module_version": "1.2.0",
            "_view_name": "LayoutView",
            "align_content": null,
            "align_items": null,
            "align_self": null,
            "border": null,
            "bottom": null,
            "display": null,
            "flex": null,
            "flex_flow": null,
            "grid_area": null,
            "grid_auto_columns": null,
            "grid_auto_flow": null,
            "grid_auto_rows": null,
            "grid_column": null,
            "grid_gap": null,
            "grid_row": null,
            "grid_template_areas": null,
            "grid_template_columns": null,
            "grid_template_rows": null,
            "height": null,
            "justify_content": null,
            "justify_items": null,
            "left": null,
            "margin": null,
            "max_height": null,
            "max_width": null,
            "min_height": null,
            "min_width": null,
            "object_fit": null,
            "object_position": null,
            "order": null,
            "overflow": null,
            "overflow_x": null,
            "overflow_y": null,
            "padding": null,
            "right": null,
            "top": null,
            "visibility": null,
            "width": null
          }
        },
        "2b3cac3a78634b7c90d63ab3b9733113": {
          "model_module": "@jupyter-widgets/controls",
          "model_name": "DescriptionStyleModel",
          "model_module_version": "1.5.0",
          "state": {
            "_model_module": "@jupyter-widgets/controls",
            "_model_module_version": "1.5.0",
            "_model_name": "DescriptionStyleModel",
            "_view_count": null,
            "_view_module": "@jupyter-widgets/base",
            "_view_module_version": "1.2.0",
            "_view_name": "StyleView",
            "description_width": ""
          }
        }
      }
    }
  },
  "cells": [
    {
      "cell_type": "code",
      "source": [
        "!pip install ir_datasets"
      ],
      "metadata": {
        "colab": {
          "base_uri": "https://localhost:8080/"
        },
        "id": "61Fzfrnjpxxx",
        "outputId": "a3d62ea1-7417-4d5c-9b99-84beaab2e7c8"
      },
      "execution_count": null,
      "outputs": [
        {
          "output_type": "stream",
          "name": "stdout",
          "text": [
            "Looking in indexes: https://pypi.org/simple, https://us-python.pkg.dev/colab-wheels/public/simple/\n",
            "Requirement already satisfied: ir_datasets in /usr/local/lib/python3.9/dist-packages (0.5.2)\n",
            "Requirement already satisfied: unlzw3>=0.2.1 in /usr/local/lib/python3.9/dist-packages (from ir_datasets) (0.2.2)\n",
            "Requirement already satisfied: beautifulsoup4>=4.4.1 in /usr/local/lib/python3.9/dist-packages (from ir_datasets) (4.11.2)\n",
            "Requirement already satisfied: tqdm>=4.38.0 in /usr/local/lib/python3.9/dist-packages (from ir_datasets) (4.65.0)\n",
            "Requirement already satisfied: pyyaml>=5.3.1 in /usr/local/lib/python3.9/dist-packages (from ir_datasets) (6.0)\n",
            "Requirement already satisfied: warc3-wet-clueweb09>=0.2.5 in /usr/local/lib/python3.9/dist-packages (from ir_datasets) (0.2.5)\n",
            "Requirement already satisfied: lxml>=4.5.2 in /usr/local/lib/python3.9/dist-packages (from ir_datasets) (4.9.2)\n",
            "Requirement already satisfied: requests>=2.22.0 in /usr/local/lib/python3.9/dist-packages (from ir_datasets) (2.27.1)\n",
            "Requirement already satisfied: trec-car-tools>=2.5.4 in /usr/local/lib/python3.9/dist-packages (from ir_datasets) (2.6)\n",
            "Requirement already satisfied: lz4>=3.1.1 in /usr/local/lib/python3.9/dist-packages (from ir_datasets) (4.3.2)\n",
            "Requirement already satisfied: pyautocorpus>=0.1.1 in /usr/local/lib/python3.9/dist-packages (from ir_datasets) (0.1.9)\n",
            "Requirement already satisfied: ijson>=3.1.3 in /usr/local/lib/python3.9/dist-packages (from ir_datasets) (3.2.0.post0)\n",
            "Requirement already satisfied: numpy>=1.18.1 in /usr/local/lib/python3.9/dist-packages (from ir_datasets) (1.22.4)\n",
            "Requirement already satisfied: warc3-wet>=0.2.3 in /usr/local/lib/python3.9/dist-packages (from ir_datasets) (0.2.3)\n",
            "Requirement already satisfied: zlib-state>=0.1.3 in /usr/local/lib/python3.9/dist-packages (from ir_datasets) (0.1.5)\n",
            "Requirement already satisfied: soupsieve>1.2 in /usr/local/lib/python3.9/dist-packages (from beautifulsoup4>=4.4.1->ir_datasets) (2.4.1)\n",
            "Requirement already satisfied: urllib3<1.27,>=1.21.1 in /usr/local/lib/python3.9/dist-packages (from requests>=2.22.0->ir_datasets) (1.26.15)\n",
            "Requirement already satisfied: charset-normalizer~=2.0.0 in /usr/local/lib/python3.9/dist-packages (from requests>=2.22.0->ir_datasets) (2.0.12)\n",
            "Requirement already satisfied: certifi>=2017.4.17 in /usr/local/lib/python3.9/dist-packages (from requests>=2.22.0->ir_datasets) (2022.12.7)\n",
            "Requirement already satisfied: idna<4,>=2.5 in /usr/local/lib/python3.9/dist-packages (from requests>=2.22.0->ir_datasets) (3.4)\n",
            "Requirement already satisfied: cbor>=1.0.0 in /usr/local/lib/python3.9/dist-packages (from trec-car-tools>=2.5.4->ir_datasets) (1.0.0)\n"
          ]
        }
      ]
    },
    {
      "cell_type": "code",
      "source": [
        "!pip install python-terrier # install pyTerrier"
      ],
      "metadata": {
        "colab": {
          "base_uri": "https://localhost:8080/"
        },
        "id": "m2Izpa9x2RrB",
        "outputId": "3dc43ba5-fc56-4d92-ccbf-8e68791a389d"
      },
      "execution_count": null,
      "outputs": [
        {
          "output_type": "stream",
          "name": "stdout",
          "text": [
            "Looking in indexes: https://pypi.org/simple, https://us-python.pkg.dev/colab-wheels/public/simple/\n",
            "Requirement already satisfied: python-terrier in /usr/local/lib/python3.9/dist-packages (0.9.2)\n",
            "Requirement already satisfied: more-itertools in /usr/local/lib/python3.9/dist-packages (from python-terrier) (9.1.0)\n",
            "Requirement already satisfied: pyjnius>=1.4.2 in /usr/local/lib/python3.9/dist-packages (from python-terrier) (1.4.2)\n",
            "Requirement already satisfied: dill in /usr/local/lib/python3.9/dist-packages (from python-terrier) (0.3.6)\n",
            "Requirement already satisfied: pytrec-eval-terrier>=0.5.3 in /usr/local/lib/python3.9/dist-packages (from python-terrier) (0.5.5)\n",
            "Requirement already satisfied: deprecated in /usr/local/lib/python3.9/dist-packages (from python-terrier) (1.2.13)\n",
            "Requirement already satisfied: numpy in /usr/local/lib/python3.9/dist-packages (from python-terrier) (1.22.4)\n",
            "Requirement already satisfied: statsmodels in /usr/local/lib/python3.9/dist-packages (from python-terrier) (0.13.5)\n",
            "Requirement already satisfied: tqdm in /usr/local/lib/python3.9/dist-packages (from python-terrier) (4.65.0)\n",
            "Requirement already satisfied: pandas in /usr/local/lib/python3.9/dist-packages (from python-terrier) (1.5.3)\n",
            "Requirement already satisfied: joblib in /usr/local/lib/python3.9/dist-packages (from python-terrier) (1.2.0)\n",
            "Requirement already satisfied: ir-datasets>=0.3.2 in /usr/local/lib/python3.9/dist-packages (from python-terrier) (0.5.2)\n",
            "Requirement already satisfied: ir-measures>=0.3.1 in /usr/local/lib/python3.9/dist-packages (from python-terrier) (0.3.1)\n",
            "Requirement already satisfied: requests in /usr/local/lib/python3.9/dist-packages (from python-terrier) (2.27.1)\n",
            "Requirement already satisfied: matchpy in /usr/local/lib/python3.9/dist-packages (from python-terrier) (0.5.5)\n",
            "Requirement already satisfied: nptyping==1.4.4 in /usr/local/lib/python3.9/dist-packages (from python-terrier) (1.4.4)\n",
            "Requirement already satisfied: scikit-learn in /usr/local/lib/python3.9/dist-packages (from python-terrier) (1.2.2)\n",
            "Requirement already satisfied: wget in /usr/local/lib/python3.9/dist-packages (from python-terrier) (3.2)\n",
            "Requirement already satisfied: scipy in /usr/local/lib/python3.9/dist-packages (from python-terrier) (1.10.1)\n",
            "Requirement already satisfied: chest in /usr/local/lib/python3.9/dist-packages (from python-terrier) (0.2.3)\n",
            "Requirement already satisfied: jinja2 in /usr/local/lib/python3.9/dist-packages (from python-terrier) (3.1.2)\n",
            "Requirement already satisfied: typish>=1.7.0 in /usr/local/lib/python3.9/dist-packages (from nptyping==1.4.4->python-terrier) (1.9.3)\n",
            "Requirement already satisfied: lz4>=3.1.1 in /usr/local/lib/python3.9/dist-packages (from ir-datasets>=0.3.2->python-terrier) (4.3.2)\n",
            "Requirement already satisfied: trec-car-tools>=2.5.4 in /usr/local/lib/python3.9/dist-packages (from ir-datasets>=0.3.2->python-terrier) (2.6)\n",
            "Requirement already satisfied: lxml>=4.5.2 in /usr/local/lib/python3.9/dist-packages (from ir-datasets>=0.3.2->python-terrier) (4.9.2)\n",
            "Requirement already satisfied: warc3-wet>=0.2.3 in /usr/local/lib/python3.9/dist-packages (from ir-datasets>=0.3.2->python-terrier) (0.2.3)\n",
            "Requirement already satisfied: ijson>=3.1.3 in /usr/local/lib/python3.9/dist-packages (from ir-datasets>=0.3.2->python-terrier) (3.2.0.post0)\n",
            "Requirement already satisfied: pyautocorpus>=0.1.1 in /usr/local/lib/python3.9/dist-packages (from ir-datasets>=0.3.2->python-terrier) (0.1.9)\n",
            "Requirement already satisfied: beautifulsoup4>=4.4.1 in /usr/local/lib/python3.9/dist-packages (from ir-datasets>=0.3.2->python-terrier) (4.11.2)\n",
            "Requirement already satisfied: zlib-state>=0.1.3 in /usr/local/lib/python3.9/dist-packages (from ir-datasets>=0.3.2->python-terrier) (0.1.5)\n",
            "Requirement already satisfied: warc3-wet-clueweb09>=0.2.5 in /usr/local/lib/python3.9/dist-packages (from ir-datasets>=0.3.2->python-terrier) (0.2.5)\n",
            "Requirement already satisfied: unlzw3>=0.2.1 in /usr/local/lib/python3.9/dist-packages (from ir-datasets>=0.3.2->python-terrier) (0.2.2)\n",
            "Requirement already satisfied: pyyaml>=5.3.1 in /usr/local/lib/python3.9/dist-packages (from ir-datasets>=0.3.2->python-terrier) (6.0)\n",
            "Requirement already satisfied: cwl-eval>=1.0.10 in /usr/local/lib/python3.9/dist-packages (from ir-measures>=0.3.1->python-terrier) (1.0.12)\n",
            "Requirement already satisfied: six>=1.7.0 in /usr/local/lib/python3.9/dist-packages (from pyjnius>=1.4.2->python-terrier) (1.16.0)\n",
            "Requirement already satisfied: idna<4,>=2.5 in /usr/local/lib/python3.9/dist-packages (from requests->python-terrier) (3.4)\n",
            "Requirement already satisfied: urllib3<1.27,>=1.21.1 in /usr/local/lib/python3.9/dist-packages (from requests->python-terrier) (1.26.15)\n",
            "Requirement already satisfied: certifi>=2017.4.17 in /usr/local/lib/python3.9/dist-packages (from requests->python-terrier) (2022.12.7)\n",
            "Requirement already satisfied: charset-normalizer~=2.0.0 in /usr/local/lib/python3.9/dist-packages (from requests->python-terrier) (2.0.12)\n",
            "Requirement already satisfied: heapdict in /usr/local/lib/python3.9/dist-packages (from chest->python-terrier) (1.0.1)\n",
            "Requirement already satisfied: wrapt<2,>=1.10 in /usr/local/lib/python3.9/dist-packages (from deprecated->python-terrier) (1.14.1)\n",
            "Requirement already satisfied: MarkupSafe>=2.0 in /usr/local/lib/python3.9/dist-packages (from jinja2->python-terrier) (2.1.2)\n",
            "Requirement already satisfied: multiset<3.0,>=2.0 in /usr/local/lib/python3.9/dist-packages (from matchpy->python-terrier) (2.1.1)\n",
            "Requirement already satisfied: python-dateutil>=2.8.1 in /usr/local/lib/python3.9/dist-packages (from pandas->python-terrier) (2.8.2)\n",
            "Requirement already satisfied: pytz>=2020.1 in /usr/local/lib/python3.9/dist-packages (from pandas->python-terrier) (2022.7.1)\n",
            "Requirement already satisfied: threadpoolctl>=2.0.0 in /usr/local/lib/python3.9/dist-packages (from scikit-learn->python-terrier) (3.1.0)\n",
            "Requirement already satisfied: patsy>=0.5.2 in /usr/local/lib/python3.9/dist-packages (from statsmodels->python-terrier) (0.5.3)\n",
            "Requirement already satisfied: packaging>=21.3 in /usr/local/lib/python3.9/dist-packages (from statsmodels->python-terrier) (23.1)\n",
            "Requirement already satisfied: soupsieve>1.2 in /usr/local/lib/python3.9/dist-packages (from beautifulsoup4>=4.4.1->ir-datasets>=0.3.2->python-terrier) (2.4.1)\n",
            "Requirement already satisfied: cbor>=1.0.0 in /usr/local/lib/python3.9/dist-packages (from trec-car-tools>=2.5.4->ir-datasets>=0.3.2->python-terrier) (1.0.0)\n"
          ]
        }
      ]
    },
    {
      "cell_type": "code",
      "source": [
        "!pip install transformers"
      ],
      "metadata": {
        "colab": {
          "base_uri": "https://localhost:8080/"
        },
        "id": "gyU7GshSHKKf",
        "outputId": "eab0d053-ced2-4d35-a761-0b262b869d9a"
      },
      "execution_count": null,
      "outputs": [
        {
          "output_type": "stream",
          "name": "stdout",
          "text": [
            "Looking in indexes: https://pypi.org/simple, https://us-python.pkg.dev/colab-wheels/public/simple/\n",
            "Requirement already satisfied: transformers in /usr/local/lib/python3.9/dist-packages (4.28.1)\n",
            "Requirement already satisfied: packaging>=20.0 in /usr/local/lib/python3.9/dist-packages (from transformers) (23.1)\n",
            "Requirement already satisfied: tqdm>=4.27 in /usr/local/lib/python3.9/dist-packages (from transformers) (4.65.0)\n",
            "Requirement already satisfied: regex!=2019.12.17 in /usr/local/lib/python3.9/dist-packages (from transformers) (2022.10.31)\n",
            "Requirement already satisfied: requests in /usr/local/lib/python3.9/dist-packages (from transformers) (2.27.1)\n",
            "Requirement already satisfied: numpy>=1.17 in /usr/local/lib/python3.9/dist-packages (from transformers) (1.22.4)\n",
            "Requirement already satisfied: pyyaml>=5.1 in /usr/local/lib/python3.9/dist-packages (from transformers) (6.0)\n",
            "Requirement already satisfied: huggingface-hub<1.0,>=0.11.0 in /usr/local/lib/python3.9/dist-packages (from transformers) (0.14.0)\n",
            "Requirement already satisfied: tokenizers!=0.11.3,<0.14,>=0.11.1 in /usr/local/lib/python3.9/dist-packages (from transformers) (0.13.3)\n",
            "Requirement already satisfied: filelock in /usr/local/lib/python3.9/dist-packages (from transformers) (3.11.0)\n",
            "Requirement already satisfied: typing-extensions>=3.7.4.3 in /usr/local/lib/python3.9/dist-packages (from huggingface-hub<1.0,>=0.11.0->transformers) (4.5.0)\n",
            "Requirement already satisfied: fsspec in /usr/local/lib/python3.9/dist-packages (from huggingface-hub<1.0,>=0.11.0->transformers) (2023.4.0)\n",
            "Requirement already satisfied: idna<4,>=2.5 in /usr/local/lib/python3.9/dist-packages (from requests->transformers) (3.4)\n",
            "Requirement already satisfied: charset-normalizer~=2.0.0 in /usr/local/lib/python3.9/dist-packages (from requests->transformers) (2.0.12)\n",
            "Requirement already satisfied: certifi>=2017.4.17 in /usr/local/lib/python3.9/dist-packages (from requests->transformers) (2022.12.7)\n",
            "Requirement already satisfied: urllib3<1.27,>=1.21.1 in /usr/local/lib/python3.9/dist-packages (from requests->transformers) (1.26.15)\n"
          ]
        }
      ]
    },
    {
      "cell_type": "code",
      "source": [
        "import json\n",
        "import os\n",
        "import requests\n",
        "import ir_datasets\n",
        "import random\n",
        "import numpy as np\n",
        "import pandas as pd\n",
        "import pyterrier as pt"
      ],
      "metadata": {
        "id": "MHzLsCPoo19V"
      },
      "execution_count": null,
      "outputs": []
    },
    {
      "cell_type": "code",
      "execution_count": null,
      "metadata": {
        "id": "kXqDdSNYjXrb",
        "colab": {
          "base_uri": "https://localhost:8080/",
          "height": 803
        },
        "outputId": "6ae615a0-bd48-4547-ea66-4b1d86c6a08a"
      },
      "outputs": [
        {
          "output_type": "stream",
          "name": "stdout",
          "text": [
            "Looking in indexes: https://pypi.org/simple, https://us-python.pkg.dev/colab-wheels/public/simple/\n",
            "Collecting git+https://github.com/allenai/ir_datasets.git@crisisfacts\n",
            "  Cloning https://github.com/allenai/ir_datasets.git (to revision crisisfacts) to /tmp/pip-req-build-quautbnw\n",
            "  Running command git clone --filter=blob:none --quiet https://github.com/allenai/ir_datasets.git /tmp/pip-req-build-quautbnw\n",
            "  Running command git checkout -b crisisfacts --track origin/crisisfacts\n",
            "  Switched to a new branch 'crisisfacts'\n",
            "  Branch 'crisisfacts' set up to track remote branch 'crisisfacts' from 'origin'.\n",
            "  Resolved https://github.com/allenai/ir_datasets.git to commit 6a3e0155dbbd7c1d14bac759660a635aed2288e8\n",
            "  Preparing metadata (setup.py) ... \u001b[?25l\u001b[?25hdone\n",
            "Requirement already satisfied: beautifulsoup4>=4.4.1 in /usr/local/lib/python3.9/dist-packages (from ir-datasets==0.5.2) (4.11.2)\n",
            "Requirement already satisfied: lxml>=4.5.2 in /usr/local/lib/python3.9/dist-packages (from ir-datasets==0.5.2) (4.9.2)\n",
            "Requirement already satisfied: numpy>=1.18.1 in /usr/local/lib/python3.9/dist-packages (from ir-datasets==0.5.2) (1.22.4)\n",
            "Requirement already satisfied: pyyaml>=5.3.1 in /usr/local/lib/python3.9/dist-packages (from ir-datasets==0.5.2) (6.0)\n",
            "Requirement already satisfied: requests>=2.22.0 in /usr/local/lib/python3.9/dist-packages (from ir-datasets==0.5.2) (2.27.1)\n",
            "Requirement already satisfied: tqdm>=4.38.0 in /usr/local/lib/python3.9/dist-packages (from ir-datasets==0.5.2) (4.65.0)\n",
            "Requirement already satisfied: trec-car-tools>=2.5.4 in /usr/local/lib/python3.9/dist-packages (from ir-datasets==0.5.2) (2.6)\n",
            "Requirement already satisfied: lz4>=3.1.1 in /usr/local/lib/python3.9/dist-packages (from ir-datasets==0.5.2) (4.3.2)\n",
            "Requirement already satisfied: warc3-wet>=0.2.3 in /usr/local/lib/python3.9/dist-packages (from ir-datasets==0.5.2) (0.2.3)\n",
            "Requirement already satisfied: warc3-wet-clueweb09>=0.2.5 in /usr/local/lib/python3.9/dist-packages (from ir-datasets==0.5.2) (0.2.5)\n",
            "Requirement already satisfied: zlib-state>=0.1.3 in /usr/local/lib/python3.9/dist-packages (from ir-datasets==0.5.2) (0.1.5)\n",
            "Requirement already satisfied: ijson>=3.1.3 in /usr/local/lib/python3.9/dist-packages (from ir-datasets==0.5.2) (3.2.0.post0)\n",
            "Requirement already satisfied: pyautocorpus>=0.1.1 in /usr/local/lib/python3.9/dist-packages (from ir-datasets==0.5.2) (0.1.9)\n",
            "Requirement already satisfied: unlzw3>=0.2.1 in /usr/local/lib/python3.9/dist-packages (from ir-datasets==0.5.2) (0.2.2)\n",
            "Requirement already satisfied: soupsieve>1.2 in /usr/local/lib/python3.9/dist-packages (from beautifulsoup4>=4.4.1->ir-datasets==0.5.2) (2.4.1)\n",
            "Requirement already satisfied: idna<4,>=2.5 in /usr/local/lib/python3.9/dist-packages (from requests>=2.22.0->ir-datasets==0.5.2) (3.4)\n",
            "Requirement already satisfied: urllib3<1.27,>=1.21.1 in /usr/local/lib/python3.9/dist-packages (from requests>=2.22.0->ir-datasets==0.5.2) (1.26.15)\n",
            "Requirement already satisfied: charset-normalizer~=2.0.0 in /usr/local/lib/python3.9/dist-packages (from requests>=2.22.0->ir-datasets==0.5.2) (2.0.12)\n",
            "Requirement already satisfied: certifi>=2017.4.17 in /usr/local/lib/python3.9/dist-packages (from requests>=2.22.0->ir-datasets==0.5.2) (2022.12.7)\n",
            "Requirement already satisfied: cbor>=1.0.0 in /usr/local/lib/python3.9/dist-packages (from trec-car-tools>=2.5.4->ir-datasets==0.5.2) (1.0.0)\n",
            "Building wheels for collected packages: ir-datasets\n",
            "  Building wheel for ir-datasets (setup.py) ... \u001b[?25l\u001b[?25hdone\n",
            "  Created wheel for ir-datasets: filename=ir_datasets-0.5.2-py3-none-any.whl size=303828 sha256=81c6bc875ca610f9112019b6cf7924bbb46f1dbc43739dfe25904b1d1ce5f4ef\n",
            "  Stored in directory: /tmp/pip-ephem-wheel-cache-8avwl0c0/wheels/84/05/db/c12b0fef15c7cb0e760e931dc6c9c2706e5ecf452f0c5230af\n",
            "Successfully built ir-datasets\n",
            "Installing collected packages: ir-datasets\n",
            "  Attempting uninstall: ir-datasets\n",
            "    Found existing installation: ir-datasets 0.5.4\n",
            "    Uninstalling ir-datasets-0.5.4:\n",
            "      Successfully uninstalled ir-datasets-0.5.4\n",
            "Successfully installed ir-datasets-0.5.2\n"
          ]
        },
        {
          "output_type": "display_data",
          "data": {
            "application/vnd.colab-display-data+json": {
              "pip_warning": {
                "packages": [
                  "ir_datasets"
                ]
              }
            }
          },
          "metadata": {}
        }
      ],
      "source": [
        "!pip install git+https://github.com/allenai/ir_datasets.git@crisisfacts "
      ]
    },
    {
      "cell_type": "code",
      "source": [
        "credentials = {\n",
        "    \"institution\": \"Indian Institute of Technology Bhilai\", # University, Company or Public Agency Name\n",
        "    \"contactname\": \"Aditya Vardhan\", # Your Name\n",
        "    \"email\": \"kammelaaditya@iitbhilai.ac.in\", # A contact email address\n",
        "    \"institutiontype\": \"Research\" # Either 'Research', 'Industry', or 'Public Sector'\n",
        "}\n",
        "\n",
        "home_dir = os.path.expanduser('~')\n",
        "!mkdir -p ~/.ir_datasets/auth/\n",
        "with open(home_dir + '/.ir_datasets/auth/crisisfacts.json', 'w') as f:\n",
        "    json.dump(credentials, f)"
      ],
      "metadata": {
        "id": "i8-RuLz9oub9"
      },
      "execution_count": null,
      "outputs": []
    },
    {
      "cell_type": "code",
      "source": [
        "# Event numbers as a list\n",
        "eventNoList = [\n",
        "          \"001\", # Lilac Wildfire 2017\n",
        "          \"002\", # Cranston Wildfire 2018\n",
        "          \"003\", # Holy Wildfire 2018\n",
        "          \"004\", # Hurricane Florence 2018\n",
        "          \"005\", # 2018 Maryland Flood\n",
        "          \"006\", # Saddleridge Wildfire 2019\n",
        "          \"007\", # Hurricane Laura 2020\n",
        "          \"008\" # Hurricane Sally 2020\n",
        "]"
      ],
      "metadata": {
        "id": "QXwAl-NDouYu"
      },
      "execution_count": null,
      "outputs": []
    },
    {
      "cell_type": "code",
      "source": [
        "# Gets the list of days for a specified event number, e.g. '001'\n",
        "def getDaysForEventNo(eventNo):\n",
        "  # We will download a file containing the day list for an event\n",
        "  url = \"http://trecis.org/CrisisFACTs/CrisisFACTS-\"+eventNo+\".requests.json\"\n",
        "  # Download the list and parse as JSON\n",
        "  dayList = requests.get(url).json()\n",
        "  return dayList"
      ],
      "metadata": {
        "id": "oFA0vhSbouVh"
      },
      "execution_count": null,
      "outputs": []
    },
    {
      "cell_type": "code",
      "source": [
        "def dataset_pyterier(data_link):\n",
        "  if not pt.started():\n",
        "    pt.init()\n",
        "  data_link = \"irds:\"+data_link\n",
        "  pyTerrierDataset = pt.get_dataset(data_link)\n",
        "  indexer = pt.IterDictIndexer(\"None\", type=pt.index.IndexingType(3), meta=['docno', 'text'], meta_lengths=[40, 200])\n",
        "  index = indexer.index(pyTerrierDataset.get_corpus_iter())\n",
        "  retriever = pt.BatchRetrieve(index, wmodel=\"DFReeKLIM\", metadata=[\"docno\", \"text\"])\n",
        "  return retriever"
      ],
      "metadata": {
        "id": "nQQzqmfCouJs"
      },
      "execution_count": null,
      "outputs": []
    },
    {
      "cell_type": "markdown",
      "source": [
        "#Our query specific data has been retrieved, let us apply text summarizations techniques algorithms and models"
      ],
      "metadata": {
        "id": "mH_dO0nJmZqS"
      }
    },
    {
      "cell_type": "markdown",
      "source": [
        "#Text rank\n"
      ],
      "metadata": {
        "id": "fOUJZsWkA8e3"
      }
    },
    {
      "cell_type": "code",
      "source": [
        "!pip install gensim"
      ],
      "metadata": {
        "id": "KCnjv8g_zO5t",
        "colab": {
          "base_uri": "https://localhost:8080/"
        },
        "outputId": "3a3b52d0-5419-4d83-908a-866ff1b85358"
      },
      "execution_count": null,
      "outputs": [
        {
          "output_type": "stream",
          "name": "stdout",
          "text": [
            "Looking in indexes: https://pypi.org/simple, https://us-python.pkg.dev/colab-wheels/public/simple/\n",
            "Requirement already satisfied: gensim in /usr/local/lib/python3.9/dist-packages (4.3.1)\n",
            "Requirement already satisfied: numpy>=1.18.5 in /usr/local/lib/python3.9/dist-packages (from gensim) (1.22.4)\n",
            "Requirement already satisfied: smart-open>=1.8.1 in /usr/local/lib/python3.9/dist-packages (from gensim) (6.3.0)\n",
            "Requirement already satisfied: scipy>=1.7.0 in /usr/local/lib/python3.9/dist-packages (from gensim) (1.10.1)\n"
          ]
        }
      ]
    },
    {
      "cell_type": "code",
      "source": [
        "import pandas as pd\n",
        "import nltk\n",
        "from nltk.tokenize import sent_tokenize\n",
        "from operator import itemgetter"
      ],
      "metadata": {
        "id": "jdXDNFI1251x"
      },
      "execution_count": null,
      "outputs": []
    },
    {
      "cell_type": "code",
      "source": [
        "!pip install sumy"
      ],
      "metadata": {
        "id": "nTiXYzvd9yW9",
        "colab": {
          "base_uri": "https://localhost:8080/"
        },
        "outputId": "789499de-dc78-49d8-8efa-c322ba769964"
      },
      "execution_count": null,
      "outputs": [
        {
          "output_type": "stream",
          "name": "stdout",
          "text": [
            "Looking in indexes: https://pypi.org/simple, https://us-python.pkg.dev/colab-wheels/public/simple/\n",
            "Collecting sumy\n",
            "  Downloading sumy-0.11.0-py2.py3-none-any.whl (97 kB)\n",
            "\u001b[2K     \u001b[90m━━━━━━━━━━━━━━━━━━━━━━━━━━━━━━━━━━━━━━━━\u001b[0m \u001b[32m97.3/97.3 kB\u001b[0m \u001b[31m6.8 MB/s\u001b[0m eta \u001b[36m0:00:00\u001b[0m\n",
            "\u001b[?25hCollecting pycountry>=18.2.23\n",
            "  Downloading pycountry-22.3.5.tar.gz (10.1 MB)\n",
            "\u001b[2K     \u001b[90m━━━━━━━━━━━━━━━━━━━━━━━━━━━━━━━━━━━━━━━━\u001b[0m \u001b[32m10.1/10.1 MB\u001b[0m \u001b[31m52.2 MB/s\u001b[0m eta \u001b[36m0:00:00\u001b[0m\n",
            "\u001b[?25h  Installing build dependencies ... \u001b[?25l\u001b[?25hdone\n",
            "  Getting requirements to build wheel ... \u001b[?25l\u001b[?25hdone\n",
            "  Preparing metadata (pyproject.toml) ... \u001b[?25l\u001b[?25hdone\n",
            "Collecting docopt<0.7,>=0.6.1\n",
            "  Downloading docopt-0.6.2.tar.gz (25 kB)\n",
            "  Preparing metadata (setup.py) ... \u001b[?25l\u001b[?25hdone\n",
            "Requirement already satisfied: requests>=2.7.0 in /usr/local/lib/python3.9/dist-packages (from sumy) (2.27.1)\n",
            "Requirement already satisfied: nltk>=3.0.2 in /usr/local/lib/python3.9/dist-packages (from sumy) (3.8.1)\n",
            "Collecting breadability>=0.1.20\n",
            "  Downloading breadability-0.1.20.tar.gz (32 kB)\n",
            "  Preparing metadata (setup.py) ... \u001b[?25l\u001b[?25hdone\n",
            "Requirement already satisfied: chardet in /usr/local/lib/python3.9/dist-packages (from breadability>=0.1.20->sumy) (4.0.0)\n",
            "Requirement already satisfied: lxml>=2.0 in /usr/local/lib/python3.9/dist-packages (from breadability>=0.1.20->sumy) (4.9.2)\n",
            "Requirement already satisfied: joblib in /usr/local/lib/python3.9/dist-packages (from nltk>=3.0.2->sumy) (1.2.0)\n",
            "Requirement already satisfied: click in /usr/local/lib/python3.9/dist-packages (from nltk>=3.0.2->sumy) (8.1.3)\n",
            "Requirement already satisfied: tqdm in /usr/local/lib/python3.9/dist-packages (from nltk>=3.0.2->sumy) (4.65.0)\n",
            "Requirement already satisfied: regex>=2021.8.3 in /usr/local/lib/python3.9/dist-packages (from nltk>=3.0.2->sumy) (2022.10.31)\n",
            "Requirement already satisfied: setuptools in /usr/local/lib/python3.9/dist-packages (from pycountry>=18.2.23->sumy) (67.7.1)\n",
            "Requirement already satisfied: charset-normalizer~=2.0.0 in /usr/local/lib/python3.9/dist-packages (from requests>=2.7.0->sumy) (2.0.12)\n",
            "Requirement already satisfied: certifi>=2017.4.17 in /usr/local/lib/python3.9/dist-packages (from requests>=2.7.0->sumy) (2022.12.7)\n",
            "Requirement already satisfied: idna<4,>=2.5 in /usr/local/lib/python3.9/dist-packages (from requests>=2.7.0->sumy) (3.4)\n",
            "Requirement already satisfied: urllib3<1.27,>=1.21.1 in /usr/local/lib/python3.9/dist-packages (from requests>=2.7.0->sumy) (1.26.15)\n",
            "Building wheels for collected packages: breadability, docopt, pycountry\n",
            "  Building wheel for breadability (setup.py) ... \u001b[?25l\u001b[?25hdone\n",
            "  Created wheel for breadability: filename=breadability-0.1.20-py2.py3-none-any.whl size=21708 sha256=1f7a35ca620e9d8a738dae5dacb7de7886a06674faf161ed8c17a4c431491739\n",
            "  Stored in directory: /root/.cache/pip/wheels/ba/9f/70/7795228568b81b57a8932755938da9fb1f291b0576752604aa\n",
            "  Building wheel for docopt (setup.py) ... \u001b[?25l\u001b[?25hdone\n",
            "  Created wheel for docopt: filename=docopt-0.6.2-py2.py3-none-any.whl size=13721 sha256=3e45e0a86a3212dfb256cfe09df6d21e1bc533ae5555932d7182ec5ac8c6d2c4\n",
            "  Stored in directory: /root/.cache/pip/wheels/70/4a/46/1309fc853b8d395e60bafaf1b6df7845bdd82c95fd59dd8d2b\n",
            "  Building wheel for pycountry (pyproject.toml) ... \u001b[?25l\u001b[?25hdone\n",
            "  Created wheel for pycountry: filename=pycountry-22.3.5-py2.py3-none-any.whl size=10681847 sha256=67bd4d5e5233f8f4023a4f8bd3af79ab5589c2c22f70031e24b4bb1cac6960db\n",
            "  Stored in directory: /root/.cache/pip/wheels/47/15/92/e6dc85fcb0686c82e1edbcfdf80cfe4808c058813fed0baa8f\n",
            "Successfully built breadability docopt pycountry\n",
            "Installing collected packages: docopt, pycountry, breadability, sumy\n",
            "Successfully installed breadability-0.1.20 docopt-0.6.2 pycountry-22.3.5 sumy-0.11.0\n"
          ]
        }
      ]
    },
    {
      "cell_type": "code",
      "source": [
        "from sumy.parsers.plaintext import PlaintextParser\n",
        "from sumy.nlp.tokenizers import Tokenizer\n",
        "from sumy.summarizers.text_rank import TextRankSummarizer\n",
        "\n",
        "import pandas as pd"
      ],
      "metadata": {
        "id": "Pl-tCbn4-ANr"
      },
      "execution_count": null,
      "outputs": []
    },
    {
      "cell_type": "code",
      "source": [
        "import nltk\n",
        "nltk.download('punkt')"
      ],
      "metadata": {
        "id": "wOgtKqTm2wDM",
        "colab": {
          "base_uri": "https://localhost:8080/"
        },
        "outputId": "eedb9321-ec46-4159-c7be-66392422eb97"
      },
      "execution_count": null,
      "outputs": [
        {
          "output_type": "stream",
          "name": "stderr",
          "text": [
            "[nltk_data] Downloading package punkt to /root/nltk_data...\n",
            "[nltk_data]   Unzipping tokenizers/punkt.zip.\n"
          ]
        },
        {
          "output_type": "execute_result",
          "data": {
            "text/plain": [
              "True"
            ]
          },
          "metadata": {},
          "execution_count": 19
        }
      ]
    },
    {
      "cell_type": "code",
      "source": [
        "import re"
      ],
      "metadata": {
        "id": "v9scs_dEBqJy"
      },
      "execution_count": null,
      "outputs": []
    },
    {
      "cell_type": "code",
      "source": [
        "nltk.download('stopwords')\n",
        "from nltk.corpus import stopwords"
      ],
      "metadata": {
        "id": "AHfzNl_5D3AE",
        "colab": {
          "base_uri": "https://localhost:8080/"
        },
        "outputId": "1f298df4-31a1-436e-efcc-048052a27f65"
      },
      "execution_count": null,
      "outputs": [
        {
          "output_type": "stream",
          "name": "stderr",
          "text": [
            "[nltk_data] Downloading package stopwords to /root/nltk_data...\n",
            "[nltk_data]   Package stopwords is already up-to-date!\n"
          ]
        }
      ]
    },
    {
      "cell_type": "code",
      "source": [
        "!wget http://nlp.stanford.edu/data/glove.6B.zip\n",
        "!unzip glove*.zip"
      ],
      "metadata": {
        "id": "RSIS0fQWBkH8",
        "colab": {
          "base_uri": "https://localhost:8080/"
        },
        "outputId": "9b3872b4-d3c9-46ed-8402-a5507e5ea956"
      },
      "execution_count": null,
      "outputs": [
        {
          "output_type": "stream",
          "name": "stdout",
          "text": [
            "--2023-04-25 13:18:28--  http://nlp.stanford.edu/data/glove.6B.zip\n",
            "Resolving nlp.stanford.edu (nlp.stanford.edu)... 171.64.67.140\n",
            "Connecting to nlp.stanford.edu (nlp.stanford.edu)|171.64.67.140|:80... connected.\n",
            "HTTP request sent, awaiting response... 302 Found\n",
            "Location: https://nlp.stanford.edu/data/glove.6B.zip [following]\n",
            "--2023-04-25 13:18:29--  https://nlp.stanford.edu/data/glove.6B.zip\n",
            "Connecting to nlp.stanford.edu (nlp.stanford.edu)|171.64.67.140|:443... connected.\n",
            "HTTP request sent, awaiting response... 301 Moved Permanently\n",
            "Location: https://downloads.cs.stanford.edu/nlp/data/glove.6B.zip [following]\n",
            "--2023-04-25 13:18:29--  https://downloads.cs.stanford.edu/nlp/data/glove.6B.zip\n",
            "Resolving downloads.cs.stanford.edu (downloads.cs.stanford.edu)... 171.64.64.22\n",
            "Connecting to downloads.cs.stanford.edu (downloads.cs.stanford.edu)|171.64.64.22|:443... connected.\n",
            "HTTP request sent, awaiting response... 200 OK\n",
            "Length: 862182613 (822M) [application/zip]\n",
            "Saving to: ‘glove.6B.zip’\n",
            "\n",
            "glove.6B.zip        100%[===================>] 822.24M  5.11MB/s    in 2m 39s  \n",
            "\n",
            "2023-04-25 13:21:09 (5.17 MB/s) - ‘glove.6B.zip’ saved [862182613/862182613]\n",
            "\n",
            "Archive:  glove.6B.zip\n",
            "  inflating: glove.6B.50d.txt        \n",
            "  inflating: glove.6B.100d.txt       \n",
            "  inflating: glove.6B.200d.txt       \n",
            "  inflating: glove.6B.300d.txt       \n"
          ]
        }
      ]
    },
    {
      "cell_type": "code",
      "source": [
        "word_embeddings = {}\n",
        "f = open('glove.6B.100d.txt', encoding='utf-8')\n",
        "for line in f:\n",
        "    values = line.split()\n",
        "    word = values[0]\n",
        "    coefs = np.asarray(values[1:], dtype='float32')\n",
        "    word_embeddings[word] = coefs\n",
        "f.close()\n",
        "len(word_embeddings)"
      ],
      "metadata": {
        "id": "NiEWkpS4RRv_",
        "colab": {
          "base_uri": "https://localhost:8080/"
        },
        "outputId": "04d789fb-808b-4338-be9b-783bc9de171f"
      },
      "execution_count": null,
      "outputs": [
        {
          "output_type": "execute_result",
          "data": {
            "text/plain": [
              "400000"
            ]
          },
          "metadata": {},
          "execution_count": 25
        }
      ]
    },
    {
      "cell_type": "code",
      "source": [
        "#Applying Page Rank\n",
        "import networkx as nx\n",
        "from nltk.tokenize import sent_tokenize"
      ],
      "metadata": {
        "id": "w0lLdXpgQlCR"
      },
      "execution_count": null,
      "outputs": []
    },
    {
      "cell_type": "code",
      "source": [
        "def summary_textrank(query,retriever):\n",
        "  query_df=pd.DataFrame(retriever.search(query))\n",
        "  sentences = []\n",
        "  for s in query_df['text']:\n",
        "    sentences.append(sent_tokenize(s))\n",
        "  sentences = [y for x in sentences for y in x]\n",
        "  # remove punctuations, numbers and special characters\n",
        "  clean_sentences = pd.Series(sentences).str.replace(\"[^a-zA-Z]\", \" \")\n",
        "  # make alphabets lowercase\n",
        "  clean_sentences = [s.lower() for s in clean_sentences]\n",
        "  stop_words = stopwords.words('english')\n",
        "  def remove_stopwords(sen):\n",
        "      sen_new = \" \".join([i for i in sen if i not in stop_words])\n",
        "      return sen_new\n",
        "  clean_sentences = [remove_stopwords(r.split()) for r in clean_sentences]\n",
        "\n",
        "  sentence_vectors = []\n",
        "  for i in clean_sentences:\n",
        "    if len(i) != 0:\n",
        "      v = sum([word_embeddings.get(w, np.zeros((100,))) for w in i.split()])/(len(i.split())+0.001)\n",
        "    else:\n",
        "      v = np.zeros((100,))\n",
        "    sentence_vectors.append(v)\n",
        "    # similarity matrix\n",
        "  sim_mat = np.zeros([len(sentences), len(sentences)])\n",
        "\n",
        "  from sklearn.metrics.pairwise import cosine_similarity\n",
        "\n",
        "  for i in range(len(sentences)):\n",
        "    for j in range(len(sentences)):\n",
        "      if i != j:\n",
        "        sim_mat[i][j] = cosine_similarity(sentence_vectors[i].reshape(1,100), sentence_vectors[j].reshape(1,100))[0,0]\n",
        "  \n",
        "  nx_graph = nx.from_numpy_array(sim_mat)\n",
        "  scores = nx.pagerank(nx_graph)\n",
        "  ranked_sentences = sorted(((scores[i],s) for i,s in enumerate(sentences)), reverse=True)\n",
        "  a=''\n",
        "  for i in range(len(ranked_sentences)):\n",
        "    a+=ranked_sentences[i][1]\n",
        "  return a"
      ],
      "metadata": {
        "id": "8KjgGuPRO7v5"
      },
      "execution_count": null,
      "outputs": []
    },
    {
      "cell_type": "code",
      "source": [
        "def summary_1(event,query):\n",
        "  event_days = getDaysForEventNo(event)\n",
        "  # Dates for a particular event\n",
        "  days_list = []\n",
        "  for d in event_days:\n",
        "    days_list.append(d[\"dateString\"])\n",
        "  print(days_list)\n",
        "  day=str(input())\n",
        "  event_day_data = 'crisisfacts/'+event+'/'+day\n",
        "\n",
        "  retriever = dataset_pyterier(event_day_data)\n",
        "  z=summary_textrank(query,retriever)\n",
        "  print(\"*********************************************************************************************************************************\")\n",
        "  return z"
      ],
      "metadata": {
        "id": "oxyPJvNVemr3"
      },
      "execution_count": null,
      "outputs": []
    },
    {
      "cell_type": "code",
      "source": [
        "summary_1(\"003\",\"Are airports closed\")"
      ],
      "metadata": {
        "colab": {
          "base_uri": "https://localhost:8080/",
          "height": 393,
          "referenced_widgets": [
            "2207c11310c141dba73d91d922309501",
            "ccddc08e8dc34872a9aac283af9edec8",
            "97ed7539c79a4040aaa382e25e084b19",
            "ccbd5be493754e97a5eb3adf19821e53",
            "919dfbde6f694999ac8ff3b47d39ecce",
            "8d6a94f96f0e4b73acc641a52c73b601",
            "9dac950b42334cd2a269c693d8f3c293",
            "82113339f244411c9ab2612c91683e23",
            "3171a6c7c3f54622b96257063b829c4b",
            "890bdfdbf0404aa7abb949ee39a8522a",
            "44b10957ee1949ce8d32c42ff1dd2105"
          ]
        },
        "id": "0wOg8EsdepJ-",
        "outputId": "f5c58129-0a41-4d6d-8431-c4445ec30603"
      },
      "execution_count": null,
      "outputs": [
        {
          "name": "stdout",
          "output_type": "stream",
          "text": [
            "['2018-08-06', '2018-08-07', '2018-08-08', '2018-08-09', '2018-08-10', '2018-08-12', '2018-08-13']\n",
            "2018-08-09\n"
          ]
        },
        {
          "output_type": "stream",
          "name": "stderr",
          "text": [
            "[INFO] [starting] building docstore\n",
            "[INFO] [starting] requesting access key\n",
            "[INFO] [finished] requesting access key [954ms]\n",
            "docs_iter: 5984doc [00:05, 1179.91doc/s]\n",
            "[INFO] [finished] docs_iter: [00:05] [5984doc] [1179.46doc/s]\n",
            "[INFO] [finished] building docstore [5.08s]\n"
          ]
        },
        {
          "output_type": "display_data",
          "data": {
            "text/plain": [
              "crisisfacts/003/2018-08-09 documents: 0it [00:00, ?it/s]"
            ],
            "application/vnd.jupyter.widget-view+json": {
              "version_major": 2,
              "version_minor": 0,
              "model_id": "2207c11310c141dba73d91d922309501"
            }
          },
          "metadata": {}
        },
        {
          "output_type": "stream",
          "name": "stdout",
          "text": [
            "13:25:36.468 [main] WARN org.terrier.querying.ApplyTermPipeline - The index has no termpipelines configuration, and no control configuration is found. Defaulting to global termpipelines configuration of 'Stopwords,PorterStemmer'. Set a termpipelines control to remove this warning.\n"
          ]
        },
        {
          "output_type": "stream",
          "name": "stderr",
          "text": [
            "<ipython-input-27-9a0ad62848ae>:8: FutureWarning: The default value of regex will change from True to False in a future version.\n",
            "  clean_sentences = pd.Series(sentences).str.replace(\"[^a-zA-Z]\", \" \")\n"
          ]
        },
        {
          "output_type": "stream",
          "name": "stdout",
          "text": [
            "*********************************************************************************************************************************\n"
          ]
        },
        {
          "output_type": "execute_result",
          "data": {
            "text/plain": [
              "'Summer is coming to a close which means it\\'s time for our BACK 2 SCHOOL special.i do the alert call every time a girl gets too close to me https://t.co/xqyrwzEzbUUPDATE: All @MenifeeUSD, @puhsdand schools to close Thursday, citing poor air quality caused by #HolyFire https://t.co/igXrlNMqJlThe flames and poor air quality prompted several Riverside County school districts to close schools Thursday; some will also be closed on Friday.Ive been opening and closing up the office these past 3 days .. but Im not even mad !Praying for everyones safety in the #HolyFire situation close to home, as well as all the other devastating fires https://t.co/jkaun94LDY#Holyfire pic.twitter.com/gft9CgvFtv  Richard K. De Atley (@RKDeAtley) August 9, 2018  Along with schools, the popular Corona retreat Glen Ivy Hot Springs announced it would be closed Thursday.#HolyFire burning close to home in Lake Elsinore area @News8 https://t.co/cGGHOGtPHrDodging Trade Tempest   is possible by going really high up on the stage close to the blast zones or by going under or grabbing a ledge  \\\\- Olberic  Olberic has three abilities: hitting an opponent wiI used to live very close to where the #HolyFire is burning right now in Corona CA &amp; mandatory evacuations are taki https://t.co/yQ7UlB566cNot even close!Schools closed  Meanwhile, a number of schools in the area have been closed due to fire and smoke.Due to the continued poor air quality, Santa Rosa Academy will be closed again tomorrow, August 10th.\" All schools in the Menifee Unified School District in Riverside County were closed Thursday due to poor air quality caused by the fire, and the campuses will remain shuttered Friday.a bunch of houses situated too close to a very actively burning fire https://t.co/ujK5A6JQ8h#HolyFire  Another view of how close the fire is to the two water storage tanks in Lake Elsinore https://t.co/hJXw6oDEXhAmid worsening weather conditions, the blaze began creeping over a ridge line around 1:30 p.m. Thursday and burned perilously close to houses on Gateway Drive in the McVicker Canyon Park neighborhood,All schools in the Menifee Unified and Perris Union High School districts will be closed Thursday due to poor air quality caused by the fire.The Menifee district said its schools would also be closed Friday.\"There are several schools within the Lake Elsinore Unified School District within the evacuation area that are closed,\" RivCo Ready officials said.Perris Unified High School District schools closing tomorrow because of poor air quality caused by smoke and ash fr https://t.co/5eDB7wBmKh#HolyFire UPDATE: Several Lake Elsinore Unified School District schools to close until further notice out of abunda https://t.co/EinPuzmjc0All Menifee Schools closed tomorrow due to unhealthy air quality because of the #HolyFireFirefighters raced from street to street late Thursday in Lake Elsinore neighborhoods, successfully fighting back flames as winds pushed the expanding Holy fire perilously close to homes.This is too important to let go by.RELATED: Neighbors Paint Vastly Different Portrait Of Holy Fire Arson Suspect  All campgrounds in the Trabuco Ranger District are closed and forest road closures were in effect for Trabuco Creek, MaplThe Lake Elsinore Unified School District announced on Wednesday that several campuses have been closed until further notice.@MF_Brown Yeah nah not anticipating anything close to that esp since its a closed world vs open world@CNUSD word is spreading that Corona-Norco Unified School District is closed until further notice due to #HolyFire Is this correct?\\\\- Alfyn  Alfyn can use three abilities: First Aid which heals the player by 20.0%, Amputation which he dashes forward, releasing a powerful axe attack on any foe that is close to him and gets hit, deThey\\'re coming for you next!The Perris Union High School District will also be closed Friday.NOW: Aircrews hitting #HolyFire flames getting REALLY close to homes in McVicker Canyon Park area.(O)ut of an abundance of caution, and because of mandatory evacuations in specific neighborhoods affected by the Holy fire, the following Lake Elsinore Unified School District schools will be closedA raging wildfire exploded to more than 9,600 acres and is moving dangerously close to homes in parts of Southern C https://t.co/EShm1r1SiJPay close attention to the company you k https://t.co/7DaGZciL0wNearby Glen Eden Sun Club, a nudist resort, also closed for the day.Rick Sutcliffe said he called Scioscia and was told Sunday\\'s reports \"are not even close to being true.\"My view as @CAL_FIRE firefighters from Rancho Mirage keep close watch over evacuated homes in Corona.I\\'m at Ontario Airport Parking Lot 5 in Ontario, CA https://t.co/eI2gqLMRFOCheck out #QuickMap for best routes.To close for comfort # @ Corona, California https://t.co/R0KXTGb4hKPeople who support and believe in you, thats your team!!!Im close to unfollowing powerClose.Stay safe, everyone!Keep them close  I dont have words,  each of you des https://t.co/K4iKXMV6cWIn other news, the smoke from the #HolyFire is so close that the Sun appears to have an orange tint to it.@Rickm0207 @aka_nips @666Paapi @chucho3k I like that , youll come in close second@DelightfulD25 @RivCoReady (1/2) Todd Academy is closed until further notice.SR-74 continues to be closed from Gateway to Grand Avenue due to the #HolyFire.I love what hes done on the infrastructure etc but if he cant close deals t https://t.co/pgEXYnnGRsOrtega Highway/CA 74 closed between Lake Elsinore and Orange CountyHighway 74, known as the Ortega Highway, remains closed between Orange and Riverside counties.They dont know what youre doing behind closed doors  .My view from the airport #flightdelays https://t.co/XdKtfmLDH3We are closely monitoring drift smoke from the https://t.co/GtKyWCXI6U@matttonetti - this is how close this thing is to McVicker.All schools in Perris Union High School District, Menifee Union School District and Romoland School District are closed Thursday.@Power106LA @KingJames @TheCruzShow Really stop with the bull shit.Then I get sucked into a black hole listening to the most random stuff.Some wrap around you and squeeze the life out of you.You can sign up online at https://t.co/3QUJ660UHg or you can come to our https://t.co/Aza773BrhFRegistration closes next Wed August 15th.@realDonaldTrump @GrahamLedger The walls are closing in!Just after 5 p.m., the Lake Street offramps on the 15 Freeway were closed.District Administrators are continual https://t.co/FTsalzJMrkAir Quality Restrictions for the @SB_CitySchools have been lifted.@RedTRaccoon All these close  races should have a recount.LIKE COMME https://t.co/8AJiUBrsJwWe expect to https://t.co/RvT3dY1B2mSchools have been closed in Menifee, Perris and Lake Elsinore.@realDonaldTrump My favorite!@KFIAM640 https://t.co/HPqNGvPn5KJust feel cheated.https://t.co/6kYQ93Pc9YIt\\'s a horse!My youthful queen!!!!It\\'s Pete the Dragon!They say you cant .... You wont.The dominoes are falling!Not all snakes bite.********************************** https://t.co/QN9PtI9fOq#HolyFire https://t.co/0nTGCB03yFYou?It\\'s .I\\'m 24.@richolmestwit No.@Kvnrmrz Same.26?!?!?!....'"
            ],
            "application/vnd.google.colaboratory.intrinsic+json": {
              "type": "string"
            }
          },
          "metadata": {},
          "execution_count": 32
        }
      ]
    },
    {
      "cell_type": "code",
      "source": [
        "summary_1(\"006\",\"Is the whole forest burnt\")"
      ],
      "metadata": {
        "colab": {
          "base_uri": "https://localhost:8080/",
          "height": 393,
          "referenced_widgets": [
            "bd6678c1ea2b49c3b1f014f91c44fbc5",
            "fef69a2157ff4ce2991df4ff302eab50",
            "91ffa354bf1c4f528ca79fb730cd312c",
            "8723b279bf9e45468638332cd00d4e89",
            "f7bb7a67762f4fddb36ec76b1cf8bef4",
            "f9dd9de1e5824fffad879c579ae3a755",
            "d85e49fe1efc4e0fb05a1fbb3e86502e",
            "b3bd0684ad574cbf94bac7f2a5ee3e69",
            "22021e3156814f698524a5ffce14934b",
            "30d56796e7634ee1a6521245e1a3e1f9",
            "2b3cac3a78634b7c90d63ab3b9733113"
          ]
        },
        "id": "OcDPHyUClJmd",
        "outputId": "9bd199ac-7304-4a7f-94f6-77cfd0141fd8"
      },
      "execution_count": null,
      "outputs": [
        {
          "name": "stdout",
          "output_type": "stream",
          "text": [
            "['2019-10-10', '2019-10-11', '2019-10-12', '2019-10-13']\n",
            "2019-10-12\n"
          ]
        },
        {
          "output_type": "stream",
          "name": "stderr",
          "text": [
            "[INFO] [starting] building docstore\n",
            "[INFO] [starting] requesting access key\n",
            "[INFO] [finished] requesting access key [1.05s]\n",
            "docs_iter: 9364doc [00:07, 1317.52doc/s]\n",
            "[INFO] [finished] docs_iter: [00:07] [9364doc] [1317.27doc/s]\n",
            "[INFO] [finished] building docstore [7.11s]\n"
          ]
        },
        {
          "output_type": "display_data",
          "data": {
            "text/plain": [
              "crisisfacts/006/2019-10-12 documents: 0it [00:00, ?it/s]"
            ],
            "application/vnd.jupyter.widget-view+json": {
              "version_major": 2,
              "version_minor": 0,
              "model_id": "bd6678c1ea2b49c3b1f014f91c44fbc5"
            }
          },
          "metadata": {}
        },
        {
          "output_type": "stream",
          "name": "stdout",
          "text": [
            "13:26:16.741 [main] WARN org.terrier.querying.ApplyTermPipeline - The index has no termpipelines configuration, and no control configuration is found. Defaulting to global termpipelines configuration of 'Stopwords,PorterStemmer'. Set a termpipelines control to remove this warning.\n"
          ]
        },
        {
          "output_type": "stream",
          "name": "stderr",
          "text": [
            "<ipython-input-27-9a0ad62848ae>:8: FutureWarning: The default value of regex will change from True to False in a future version.\n",
            "  clean_sentences = pd.Series(sentences).str.replace(\"[^a-zA-Z]\", \" \")\n"
          ]
        },
        {
          "output_type": "stream",
          "name": "stdout",
          "text": [
            "*********************************************************************************************************************************\n"
          ]
        },
        {
          "output_type": "execute_result",
          "data": {
            "text/plain": [
              "'Wow i totally left my sign at Whole Foods Venice 10 days ago rip (@ Lazy Acres - @bristolfarms in Long Beach, CA) https://t.co/povGbo9bGAWhole place smelled like fire, https://t.co/GInxQR0ZRB2014 FOREST HILLS DRIVE might be ONE OF THE GREATEST ALBUMS OF ALL TIME BRO  THANK YOU @JColeNC  https://t.co/s8ozq51oWBSo were sitting with the like heads of Javis company and this is a whole different type of rich lol Javi and I ar https://t.co/WqXMl6elwOI get the whole morning and house to myself basically.Just in case a burnt ember hits the house, I\\'ll be able to put it out,\\'\" s https://t.co/KLbKPE7QVKTired of opening and saving the bangers for other DJS bc when other DJS get a chance to open their whole set is ban https://t.co/sTRPBExNTVLA is gonna end up burnt to the ground one day.I wanna give a shoutout to my bf @PrestonProjecc , for protecting me last night through out the whole time at @The17thDoor lmaoThanks To Each And Everyone Who Participated In Making This Whole Thing Possible.Idc what anyone says but his look in the whole movie made meMe whole time bumping @IAMSUMMERWALKER new album https://t.co/uXE0r3L2jBPicked up bae from his work in Santa Monica and damn that air quality is deadly af.\"We want to thank the whole community for helping us out.\"#Repost gendernation  Coming out is about telling the story of who you are with your whole heart.Visiting with Doug at the Heros &amp; Villains booth &amp; our vote for the best looking booth of the whole con.Bro am I the only one concerned about breathing this valley fire air???Thats some Robert Frost-level stuff t https://t.co/iUiTQXnUpWSaturday @ Whole Foods Market https://t.co/rzhwtTgUQjThis is my first whole weekend off in months AND I start my new job on Tuesday@jchunnyy always stays hyping me up  she\\'s a whole ass angel  https://t.co/drltQBB1faUSA has also been a predicted location for a massive earth https://t.co/vVJZ7QVnsKIf my wife wanted kisses because I havent seen her in 10 years then s https://t.co/wUPYgv5FW8The whole cast of #WuTangOnHulu is dope being realEscape to a Forest of Inspiration and Creativity  @ Hollywood Piano Company https://t.co/XdPEc36sAzTake us all with you@thebrowergroup Happy birthday from the whole @ucimind team!@speakordie83 Ive been looking for this app my whole life.\"I said, \\'You know, I\\'m gonna stay here.Thats right, clean out the whole White House cabinet, its very stinky\"It was a whole curtain of fire,\" said Edwin Bernard.Im really going to kick Sasukes whole ass.If this whole POTUS thing doesnt work out you might wanna try being a poet.@TaylorJaytv  you gotta share the whole experience in a twitter thread.  This is the latest forest fire set off by The Tao.More than 140 firefighters from Riverside County, the Bureau of Land Management and San Bernardino National Forest as well as four air tankers worked to contain the fire.However, some customers near the El Dorado, Stanislaus and Tahoe national forests remained without power.The #Saddleridge fire north of Los https://t.co/7Qw0PUyYi0once i got that whole plastic wrapper in with my Mac n cheese, label and all, in the bowlThe champagne was most certainly  NOT burnt at the @thehstrymakers Evening With Debra Lee!@Alyssa_Milano Both...with a whole lot of bullshit mixed in.RT pattrn: Multiple brush &amp; forest fires are raging across parts of California.A whole vibe out the window too.Rear of home that was lost in Granada Hills.Beautiful campus here at Loyola Marymount University, but sad to smell the forest fire smoke in the air.This whole state smell like a crusty barbecue grill rn, shit is OCdisappointed but not surprised was a whole mood all 2019.Still smoldering near burnt out car.@bluekeyblade oh I LOVE it!@ The Broad Stage https://t.co/UrPDXyT4PWThis Is Truly https://t.co/HD5ujFVaPNA wildfire destroys 25 homes and 7,500 acres of forest near Los Angeles.Only you can prevent forest fires.https://t.co/U8r2Y4hZvOThanks babe!#esa2019 https://t.co/JzAKFsZ66gI can smell this shit in LA smells burntLAFD is on scene to monitor.https://t.co/vW7sbw4kte@_tinycheeta Im dedicating a whole ass misa TO MEIm A Slave 4 U!!!Aw shit Robert Forester.Smokey the BearIt\\'s refre https://t.co/N2kY48zY5Bhttps://t.co/fU7Zyi5gF8RIP.https://t.co/DkeB076JCtSo horrifying #SaddleridgeFireThis is comed https://t.co/FaLhYm37kD!'"
            ],
            "application/vnd.google.colaboratory.intrinsic+json": {
              "type": "string"
            }
          },
          "metadata": {},
          "execution_count": 34
        }
      ]
    }
  ]
}