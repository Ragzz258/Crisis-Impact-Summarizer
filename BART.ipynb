{
  "nbformat": 4,
  "nbformat_minor": 0,
  "metadata": {
    "colab": {
      "provenance": []
    },
    "kernelspec": {
      "name": "python3",
      "display_name": "Python 3"
    },
    "language_info": {
      "name": "python"
    },
    "widgets": {
      "application/vnd.jupyter.widget-state+json": {
        "fac675e17da14837931515d74c66da76": {
          "model_module": "@jupyter-widgets/controls",
          "model_name": "HBoxModel",
          "model_module_version": "1.5.0",
          "state": {
            "_dom_classes": [],
            "_model_module": "@jupyter-widgets/controls",
            "_model_module_version": "1.5.0",
            "_model_name": "HBoxModel",
            "_view_count": null,
            "_view_module": "@jupyter-widgets/controls",
            "_view_module_version": "1.5.0",
            "_view_name": "HBoxView",
            "box_style": "",
            "children": [
              "IPY_MODEL_c04b2cca82f9401a80085de6e6a56211",
              "IPY_MODEL_3f1ccfefd8554df7a7840716d9edb023",
              "IPY_MODEL_f57efd0d31864162bbddf81bd7eba38b"
            ],
            "layout": "IPY_MODEL_e2c80f3a34a545d9adba083fa62a3494"
          }
        },
        "c04b2cca82f9401a80085de6e6a56211": {
          "model_module": "@jupyter-widgets/controls",
          "model_name": "HTMLModel",
          "model_module_version": "1.5.0",
          "state": {
            "_dom_classes": [],
            "_model_module": "@jupyter-widgets/controls",
            "_model_module_version": "1.5.0",
            "_model_name": "HTMLModel",
            "_view_count": null,
            "_view_module": "@jupyter-widgets/controls",
            "_view_module_version": "1.5.0",
            "_view_name": "HTMLView",
            "description": "",
            "description_tooltip": null,
            "layout": "IPY_MODEL_9fc3f11a28d44c1a9f0322a9cc684ad8",
            "placeholder": "​",
            "style": "IPY_MODEL_52e6d95e2ba547e59673a3bb3976cbd1",
            "value": "crisisfacts/001/2017-12-07 documents: "
          }
        },
        "3f1ccfefd8554df7a7840716d9edb023": {
          "model_module": "@jupyter-widgets/controls",
          "model_name": "FloatProgressModel",
          "model_module_version": "1.5.0",
          "state": {
            "_dom_classes": [],
            "_model_module": "@jupyter-widgets/controls",
            "_model_module_version": "1.5.0",
            "_model_name": "FloatProgressModel",
            "_view_count": null,
            "_view_module": "@jupyter-widgets/controls",
            "_view_module_version": "1.5.0",
            "_view_name": "ProgressView",
            "bar_style": "success",
            "description": "",
            "description_tooltip": null,
            "layout": "IPY_MODEL_f3d37670c11242cb83b6cfd6ab9632a9",
            "max": 1,
            "min": 0,
            "orientation": "horizontal",
            "style": "IPY_MODEL_8d514829315348299131658c2b08e1ec",
            "value": 1
          }
        },
        "f57efd0d31864162bbddf81bd7eba38b": {
          "model_module": "@jupyter-widgets/controls",
          "model_name": "HTMLModel",
          "model_module_version": "1.5.0",
          "state": {
            "_dom_classes": [],
            "_model_module": "@jupyter-widgets/controls",
            "_model_module_version": "1.5.0",
            "_model_name": "HTMLModel",
            "_view_count": null,
            "_view_module": "@jupyter-widgets/controls",
            "_view_module_version": "1.5.0",
            "_view_name": "HTMLView",
            "description": "",
            "description_tooltip": null,
            "layout": "IPY_MODEL_099ffd0bd847419f8c19790528a0c7a4",
            "placeholder": "​",
            "style": "IPY_MODEL_323fde411ba049aebb4594335a1ecad8",
            "value": " 7288/? [00:04&lt;00:00, 1801.19it/s]"
          }
        },
        "e2c80f3a34a545d9adba083fa62a3494": {
          "model_module": "@jupyter-widgets/base",
          "model_name": "LayoutModel",
          "model_module_version": "1.2.0",
          "state": {
            "_model_module": "@jupyter-widgets/base",
            "_model_module_version": "1.2.0",
            "_model_name": "LayoutModel",
            "_view_count": null,
            "_view_module": "@jupyter-widgets/base",
            "_view_module_version": "1.2.0",
            "_view_name": "LayoutView",
            "align_content": null,
            "align_items": null,
            "align_self": null,
            "border": null,
            "bottom": null,
            "display": null,
            "flex": null,
            "flex_flow": null,
            "grid_area": null,
            "grid_auto_columns": null,
            "grid_auto_flow": null,
            "grid_auto_rows": null,
            "grid_column": null,
            "grid_gap": null,
            "grid_row": null,
            "grid_template_areas": null,
            "grid_template_columns": null,
            "grid_template_rows": null,
            "height": null,
            "justify_content": null,
            "justify_items": null,
            "left": null,
            "margin": null,
            "max_height": null,
            "max_width": null,
            "min_height": null,
            "min_width": null,
            "object_fit": null,
            "object_position": null,
            "order": null,
            "overflow": null,
            "overflow_x": null,
            "overflow_y": null,
            "padding": null,
            "right": null,
            "top": null,
            "visibility": null,
            "width": null
          }
        },
        "9fc3f11a28d44c1a9f0322a9cc684ad8": {
          "model_module": "@jupyter-widgets/base",
          "model_name": "LayoutModel",
          "model_module_version": "1.2.0",
          "state": {
            "_model_module": "@jupyter-widgets/base",
            "_model_module_version": "1.2.0",
            "_model_name": "LayoutModel",
            "_view_count": null,
            "_view_module": "@jupyter-widgets/base",
            "_view_module_version": "1.2.0",
            "_view_name": "LayoutView",
            "align_content": null,
            "align_items": null,
            "align_self": null,
            "border": null,
            "bottom": null,
            "display": null,
            "flex": null,
            "flex_flow": null,
            "grid_area": null,
            "grid_auto_columns": null,
            "grid_auto_flow": null,
            "grid_auto_rows": null,
            "grid_column": null,
            "grid_gap": null,
            "grid_row": null,
            "grid_template_areas": null,
            "grid_template_columns": null,
            "grid_template_rows": null,
            "height": null,
            "justify_content": null,
            "justify_items": null,
            "left": null,
            "margin": null,
            "max_height": null,
            "max_width": null,
            "min_height": null,
            "min_width": null,
            "object_fit": null,
            "object_position": null,
            "order": null,
            "overflow": null,
            "overflow_x": null,
            "overflow_y": null,
            "padding": null,
            "right": null,
            "top": null,
            "visibility": null,
            "width": null
          }
        },
        "52e6d95e2ba547e59673a3bb3976cbd1": {
          "model_module": "@jupyter-widgets/controls",
          "model_name": "DescriptionStyleModel",
          "model_module_version": "1.5.0",
          "state": {
            "_model_module": "@jupyter-widgets/controls",
            "_model_module_version": "1.5.0",
            "_model_name": "DescriptionStyleModel",
            "_view_count": null,
            "_view_module": "@jupyter-widgets/base",
            "_view_module_version": "1.2.0",
            "_view_name": "StyleView",
            "description_width": ""
          }
        },
        "f3d37670c11242cb83b6cfd6ab9632a9": {
          "model_module": "@jupyter-widgets/base",
          "model_name": "LayoutModel",
          "model_module_version": "1.2.0",
          "state": {
            "_model_module": "@jupyter-widgets/base",
            "_model_module_version": "1.2.0",
            "_model_name": "LayoutModel",
            "_view_count": null,
            "_view_module": "@jupyter-widgets/base",
            "_view_module_version": "1.2.0",
            "_view_name": "LayoutView",
            "align_content": null,
            "align_items": null,
            "align_self": null,
            "border": null,
            "bottom": null,
            "display": null,
            "flex": null,
            "flex_flow": null,
            "grid_area": null,
            "grid_auto_columns": null,
            "grid_auto_flow": null,
            "grid_auto_rows": null,
            "grid_column": null,
            "grid_gap": null,
            "grid_row": null,
            "grid_template_areas": null,
            "grid_template_columns": null,
            "grid_template_rows": null,
            "height": null,
            "justify_content": null,
            "justify_items": null,
            "left": null,
            "margin": null,
            "max_height": null,
            "max_width": null,
            "min_height": null,
            "min_width": null,
            "object_fit": null,
            "object_position": null,
            "order": null,
            "overflow": null,
            "overflow_x": null,
            "overflow_y": null,
            "padding": null,
            "right": null,
            "top": null,
            "visibility": null,
            "width": "20px"
          }
        },
        "8d514829315348299131658c2b08e1ec": {
          "model_module": "@jupyter-widgets/controls",
          "model_name": "ProgressStyleModel",
          "model_module_version": "1.5.0",
          "state": {
            "_model_module": "@jupyter-widgets/controls",
            "_model_module_version": "1.5.0",
            "_model_name": "ProgressStyleModel",
            "_view_count": null,
            "_view_module": "@jupyter-widgets/base",
            "_view_module_version": "1.2.0",
            "_view_name": "StyleView",
            "bar_color": null,
            "description_width": ""
          }
        },
        "099ffd0bd847419f8c19790528a0c7a4": {
          "model_module": "@jupyter-widgets/base",
          "model_name": "LayoutModel",
          "model_module_version": "1.2.0",
          "state": {
            "_model_module": "@jupyter-widgets/base",
            "_model_module_version": "1.2.0",
            "_model_name": "LayoutModel",
            "_view_count": null,
            "_view_module": "@jupyter-widgets/base",
            "_view_module_version": "1.2.0",
            "_view_name": "LayoutView",
            "align_content": null,
            "align_items": null,
            "align_self": null,
            "border": null,
            "bottom": null,
            "display": null,
            "flex": null,
            "flex_flow": null,
            "grid_area": null,
            "grid_auto_columns": null,
            "grid_auto_flow": null,
            "grid_auto_rows": null,
            "grid_column": null,
            "grid_gap": null,
            "grid_row": null,
            "grid_template_areas": null,
            "grid_template_columns": null,
            "grid_template_rows": null,
            "height": null,
            "justify_content": null,
            "justify_items": null,
            "left": null,
            "margin": null,
            "max_height": null,
            "max_width": null,
            "min_height": null,
            "min_width": null,
            "object_fit": null,
            "object_position": null,
            "order": null,
            "overflow": null,
            "overflow_x": null,
            "overflow_y": null,
            "padding": null,
            "right": null,
            "top": null,
            "visibility": null,
            "width": null
          }
        },
        "323fde411ba049aebb4594335a1ecad8": {
          "model_module": "@jupyter-widgets/controls",
          "model_name": "DescriptionStyleModel",
          "model_module_version": "1.5.0",
          "state": {
            "_model_module": "@jupyter-widgets/controls",
            "_model_module_version": "1.5.0",
            "_model_name": "DescriptionStyleModel",
            "_view_count": null,
            "_view_module": "@jupyter-widgets/base",
            "_view_module_version": "1.2.0",
            "_view_name": "StyleView",
            "description_width": ""
          }
        },
        "d3afd62f9d7648e8b31cea4767ee2e99": {
          "model_module": "@jupyter-widgets/controls",
          "model_name": "HBoxModel",
          "model_module_version": "1.5.0",
          "state": {
            "_dom_classes": [],
            "_model_module": "@jupyter-widgets/controls",
            "_model_module_version": "1.5.0",
            "_model_name": "HBoxModel",
            "_view_count": null,
            "_view_module": "@jupyter-widgets/controls",
            "_view_module_version": "1.5.0",
            "_view_name": "HBoxView",
            "box_style": "",
            "children": [
              "IPY_MODEL_8661ccb03045408da697178440f4ff01",
              "IPY_MODEL_abc98eaf0cb0438b9248c3ed54367ef7",
              "IPY_MODEL_3cd815524434460eb3ca04ad0f78118e"
            ],
            "layout": "IPY_MODEL_1144f1ce84c04486bcdda573a8293f17"
          }
        },
        "8661ccb03045408da697178440f4ff01": {
          "model_module": "@jupyter-widgets/controls",
          "model_name": "HTMLModel",
          "model_module_version": "1.5.0",
          "state": {
            "_dom_classes": [],
            "_model_module": "@jupyter-widgets/controls",
            "_model_module_version": "1.5.0",
            "_model_name": "HTMLModel",
            "_view_count": null,
            "_view_module": "@jupyter-widgets/controls",
            "_view_module_version": "1.5.0",
            "_view_name": "HTMLView",
            "description": "",
            "description_tooltip": null,
            "layout": "IPY_MODEL_9428667baf41485dab8e4cd71479a141",
            "placeholder": "​",
            "style": "IPY_MODEL_207ea26c08d14d328760d51e1d1381c2",
            "value": "crisisfacts/006/2019-10-10 documents: "
          }
        },
        "abc98eaf0cb0438b9248c3ed54367ef7": {
          "model_module": "@jupyter-widgets/controls",
          "model_name": "FloatProgressModel",
          "model_module_version": "1.5.0",
          "state": {
            "_dom_classes": [],
            "_model_module": "@jupyter-widgets/controls",
            "_model_module_version": "1.5.0",
            "_model_name": "FloatProgressModel",
            "_view_count": null,
            "_view_module": "@jupyter-widgets/controls",
            "_view_module_version": "1.5.0",
            "_view_name": "ProgressView",
            "bar_style": "success",
            "description": "",
            "description_tooltip": null,
            "layout": "IPY_MODEL_481b773c1fee480991b9de3411f0cbcc",
            "max": 1,
            "min": 0,
            "orientation": "horizontal",
            "style": "IPY_MODEL_91e51e20082a4b0cb4d13a8a8f71fbcf",
            "value": 1
          }
        },
        "3cd815524434460eb3ca04ad0f78118e": {
          "model_module": "@jupyter-widgets/controls",
          "model_name": "HTMLModel",
          "model_module_version": "1.5.0",
          "state": {
            "_dom_classes": [],
            "_model_module": "@jupyter-widgets/controls",
            "_model_module_version": "1.5.0",
            "_model_name": "HTMLModel",
            "_view_count": null,
            "_view_module": "@jupyter-widgets/controls",
            "_view_module_version": "1.5.0",
            "_view_name": "HTMLView",
            "description": "",
            "description_tooltip": null,
            "layout": "IPY_MODEL_610e2039accf4406b4644dc2f0a6884d",
            "placeholder": "​",
            "style": "IPY_MODEL_bd07dfd6d1dc436694b89abb404ac0b1",
            "value": " 6993/? [00:03&lt;00:00, 1509.67it/s]"
          }
        },
        "1144f1ce84c04486bcdda573a8293f17": {
          "model_module": "@jupyter-widgets/base",
          "model_name": "LayoutModel",
          "model_module_version": "1.2.0",
          "state": {
            "_model_module": "@jupyter-widgets/base",
            "_model_module_version": "1.2.0",
            "_model_name": "LayoutModel",
            "_view_count": null,
            "_view_module": "@jupyter-widgets/base",
            "_view_module_version": "1.2.0",
            "_view_name": "LayoutView",
            "align_content": null,
            "align_items": null,
            "align_self": null,
            "border": null,
            "bottom": null,
            "display": null,
            "flex": null,
            "flex_flow": null,
            "grid_area": null,
            "grid_auto_columns": null,
            "grid_auto_flow": null,
            "grid_auto_rows": null,
            "grid_column": null,
            "grid_gap": null,
            "grid_row": null,
            "grid_template_areas": null,
            "grid_template_columns": null,
            "grid_template_rows": null,
            "height": null,
            "justify_content": null,
            "justify_items": null,
            "left": null,
            "margin": null,
            "max_height": null,
            "max_width": null,
            "min_height": null,
            "min_width": null,
            "object_fit": null,
            "object_position": null,
            "order": null,
            "overflow": null,
            "overflow_x": null,
            "overflow_y": null,
            "padding": null,
            "right": null,
            "top": null,
            "visibility": null,
            "width": null
          }
        },
        "9428667baf41485dab8e4cd71479a141": {
          "model_module": "@jupyter-widgets/base",
          "model_name": "LayoutModel",
          "model_module_version": "1.2.0",
          "state": {
            "_model_module": "@jupyter-widgets/base",
            "_model_module_version": "1.2.0",
            "_model_name": "LayoutModel",
            "_view_count": null,
            "_view_module": "@jupyter-widgets/base",
            "_view_module_version": "1.2.0",
            "_view_name": "LayoutView",
            "align_content": null,
            "align_items": null,
            "align_self": null,
            "border": null,
            "bottom": null,
            "display": null,
            "flex": null,
            "flex_flow": null,
            "grid_area": null,
            "grid_auto_columns": null,
            "grid_auto_flow": null,
            "grid_auto_rows": null,
            "grid_column": null,
            "grid_gap": null,
            "grid_row": null,
            "grid_template_areas": null,
            "grid_template_columns": null,
            "grid_template_rows": null,
            "height": null,
            "justify_content": null,
            "justify_items": null,
            "left": null,
            "margin": null,
            "max_height": null,
            "max_width": null,
            "min_height": null,
            "min_width": null,
            "object_fit": null,
            "object_position": null,
            "order": null,
            "overflow": null,
            "overflow_x": null,
            "overflow_y": null,
            "padding": null,
            "right": null,
            "top": null,
            "visibility": null,
            "width": null
          }
        },
        "207ea26c08d14d328760d51e1d1381c2": {
          "model_module": "@jupyter-widgets/controls",
          "model_name": "DescriptionStyleModel",
          "model_module_version": "1.5.0",
          "state": {
            "_model_module": "@jupyter-widgets/controls",
            "_model_module_version": "1.5.0",
            "_model_name": "DescriptionStyleModel",
            "_view_count": null,
            "_view_module": "@jupyter-widgets/base",
            "_view_module_version": "1.2.0",
            "_view_name": "StyleView",
            "description_width": ""
          }
        },
        "481b773c1fee480991b9de3411f0cbcc": {
          "model_module": "@jupyter-widgets/base",
          "model_name": "LayoutModel",
          "model_module_version": "1.2.0",
          "state": {
            "_model_module": "@jupyter-widgets/base",
            "_model_module_version": "1.2.0",
            "_model_name": "LayoutModel",
            "_view_count": null,
            "_view_module": "@jupyter-widgets/base",
            "_view_module_version": "1.2.0",
            "_view_name": "LayoutView",
            "align_content": null,
            "align_items": null,
            "align_self": null,
            "border": null,
            "bottom": null,
            "display": null,
            "flex": null,
            "flex_flow": null,
            "grid_area": null,
            "grid_auto_columns": null,
            "grid_auto_flow": null,
            "grid_auto_rows": null,
            "grid_column": null,
            "grid_gap": null,
            "grid_row": null,
            "grid_template_areas": null,
            "grid_template_columns": null,
            "grid_template_rows": null,
            "height": null,
            "justify_content": null,
            "justify_items": null,
            "left": null,
            "margin": null,
            "max_height": null,
            "max_width": null,
            "min_height": null,
            "min_width": null,
            "object_fit": null,
            "object_position": null,
            "order": null,
            "overflow": null,
            "overflow_x": null,
            "overflow_y": null,
            "padding": null,
            "right": null,
            "top": null,
            "visibility": null,
            "width": "20px"
          }
        },
        "91e51e20082a4b0cb4d13a8a8f71fbcf": {
          "model_module": "@jupyter-widgets/controls",
          "model_name": "ProgressStyleModel",
          "model_module_version": "1.5.0",
          "state": {
            "_model_module": "@jupyter-widgets/controls",
            "_model_module_version": "1.5.0",
            "_model_name": "ProgressStyleModel",
            "_view_count": null,
            "_view_module": "@jupyter-widgets/base",
            "_view_module_version": "1.2.0",
            "_view_name": "StyleView",
            "bar_color": null,
            "description_width": ""
          }
        },
        "610e2039accf4406b4644dc2f0a6884d": {
          "model_module": "@jupyter-widgets/base",
          "model_name": "LayoutModel",
          "model_module_version": "1.2.0",
          "state": {
            "_model_module": "@jupyter-widgets/base",
            "_model_module_version": "1.2.0",
            "_model_name": "LayoutModel",
            "_view_count": null,
            "_view_module": "@jupyter-widgets/base",
            "_view_module_version": "1.2.0",
            "_view_name": "LayoutView",
            "align_content": null,
            "align_items": null,
            "align_self": null,
            "border": null,
            "bottom": null,
            "display": null,
            "flex": null,
            "flex_flow": null,
            "grid_area": null,
            "grid_auto_columns": null,
            "grid_auto_flow": null,
            "grid_auto_rows": null,
            "grid_column": null,
            "grid_gap": null,
            "grid_row": null,
            "grid_template_areas": null,
            "grid_template_columns": null,
            "grid_template_rows": null,
            "height": null,
            "justify_content": null,
            "justify_items": null,
            "left": null,
            "margin": null,
            "max_height": null,
            "max_width": null,
            "min_height": null,
            "min_width": null,
            "object_fit": null,
            "object_position": null,
            "order": null,
            "overflow": null,
            "overflow_x": null,
            "overflow_y": null,
            "padding": null,
            "right": null,
            "top": null,
            "visibility": null,
            "width": null
          }
        },
        "bd07dfd6d1dc436694b89abb404ac0b1": {
          "model_module": "@jupyter-widgets/controls",
          "model_name": "DescriptionStyleModel",
          "model_module_version": "1.5.0",
          "state": {
            "_model_module": "@jupyter-widgets/controls",
            "_model_module_version": "1.5.0",
            "_model_name": "DescriptionStyleModel",
            "_view_count": null,
            "_view_module": "@jupyter-widgets/base",
            "_view_module_version": "1.2.0",
            "_view_name": "StyleView",
            "description_width": ""
          }
        }
      }
    }
  },
  "cells": [
    {
      "cell_type": "code",
      "source": [
        "!pip install python-terrier # install pyTerrier"
      ],
      "metadata": {
        "colab": {
          "base_uri": "https://localhost:8080/"
        },
        "id": "m2Izpa9x2RrB",
        "outputId": "d0c713ee-8e8f-4de7-ad4b-4643f79553a4"
      },
      "execution_count": 1,
      "outputs": [
        {
          "output_type": "stream",
          "name": "stdout",
          "text": [
            "Requirement already satisfied: python-terrier in /usr/local/lib/python3.10/dist-packages (0.9.2)\n",
            "Requirement already satisfied: numpy in /usr/local/lib/python3.10/dist-packages (from python-terrier) (1.22.4)\n",
            "Requirement already satisfied: pandas in /usr/local/lib/python3.10/dist-packages (from python-terrier) (1.5.3)\n",
            "Requirement already satisfied: wget in /usr/local/lib/python3.10/dist-packages (from python-terrier) (3.2)\n",
            "Requirement already satisfied: tqdm in /usr/local/lib/python3.10/dist-packages (from python-terrier) (4.65.0)\n",
            "Requirement already satisfied: pyjnius>=1.4.2 in /usr/local/lib/python3.10/dist-packages (from python-terrier) (1.5.0)\n",
            "Requirement already satisfied: matchpy in /usr/local/lib/python3.10/dist-packages (from python-terrier) (0.5.5)\n",
            "Requirement already satisfied: scikit-learn in /usr/local/lib/python3.10/dist-packages (from python-terrier) (1.2.2)\n",
            "Requirement already satisfied: deprecated in /usr/local/lib/python3.10/dist-packages (from python-terrier) (1.2.14)\n",
            "Requirement already satisfied: chest in /usr/local/lib/python3.10/dist-packages (from python-terrier) (0.2.3)\n",
            "Requirement already satisfied: scipy in /usr/local/lib/python3.10/dist-packages (from python-terrier) (1.10.1)\n",
            "Requirement already satisfied: requests in /usr/local/lib/python3.10/dist-packages (from python-terrier) (2.27.1)\n",
            "Requirement already satisfied: joblib in /usr/local/lib/python3.10/dist-packages (from python-terrier) (1.3.1)\n",
            "Requirement already satisfied: nptyping==1.4.4 in /usr/local/lib/python3.10/dist-packages (from python-terrier) (1.4.4)\n",
            "Requirement already satisfied: more-itertools in /usr/local/lib/python3.10/dist-packages (from python-terrier) (9.1.0)\n",
            "Requirement already satisfied: ir-datasets>=0.3.2 in /usr/local/lib/python3.10/dist-packages (from python-terrier) (0.5.2)\n",
            "Requirement already satisfied: jinja2 in /usr/local/lib/python3.10/dist-packages (from python-terrier) (3.1.2)\n",
            "Requirement already satisfied: statsmodels in /usr/local/lib/python3.10/dist-packages (from python-terrier) (0.13.5)\n",
            "Requirement already satisfied: ir-measures>=0.3.1 in /usr/local/lib/python3.10/dist-packages (from python-terrier) (0.3.3)\n",
            "Requirement already satisfied: dill in /usr/local/lib/python3.10/dist-packages (from python-terrier) (0.3.7)\n",
            "Requirement already satisfied: pytrec-eval-terrier>=0.5.3 in /usr/local/lib/python3.10/dist-packages (from python-terrier) (0.5.5)\n",
            "Requirement already satisfied: typish>=1.7.0 in /usr/local/lib/python3.10/dist-packages (from nptyping==1.4.4->python-terrier) (1.9.3)\n",
            "Requirement already satisfied: beautifulsoup4>=4.4.1 in /usr/local/lib/python3.10/dist-packages (from ir-datasets>=0.3.2->python-terrier) (4.11.2)\n",
            "Requirement already satisfied: lxml>=4.5.2 in /usr/local/lib/python3.10/dist-packages (from ir-datasets>=0.3.2->python-terrier) (4.9.3)\n",
            "Requirement already satisfied: pyyaml>=5.3.1 in /usr/local/lib/python3.10/dist-packages (from ir-datasets>=0.3.2->python-terrier) (6.0.1)\n",
            "Requirement already satisfied: trec-car-tools>=2.5.4 in /usr/local/lib/python3.10/dist-packages (from ir-datasets>=0.3.2->python-terrier) (2.6)\n",
            "Requirement already satisfied: lz4>=3.1.1 in /usr/local/lib/python3.10/dist-packages (from ir-datasets>=0.3.2->python-terrier) (4.3.2)\n",
            "Requirement already satisfied: warc3-wet>=0.2.3 in /usr/local/lib/python3.10/dist-packages (from ir-datasets>=0.3.2->python-terrier) (0.2.3)\n",
            "Requirement already satisfied: warc3-wet-clueweb09>=0.2.5 in /usr/local/lib/python3.10/dist-packages (from ir-datasets>=0.3.2->python-terrier) (0.2.5)\n",
            "Requirement already satisfied: zlib-state>=0.1.3 in /usr/local/lib/python3.10/dist-packages (from ir-datasets>=0.3.2->python-terrier) (0.1.5)\n",
            "Requirement already satisfied: ijson>=3.1.3 in /usr/local/lib/python3.10/dist-packages (from ir-datasets>=0.3.2->python-terrier) (3.2.3)\n",
            "Requirement already satisfied: pyautocorpus>=0.1.1 in /usr/local/lib/python3.10/dist-packages (from ir-datasets>=0.3.2->python-terrier) (0.1.12)\n",
            "Requirement already satisfied: unlzw3>=0.2.1 in /usr/local/lib/python3.10/dist-packages (from ir-datasets>=0.3.2->python-terrier) (0.2.2)\n",
            "Requirement already satisfied: cwl-eval>=1.0.10 in /usr/local/lib/python3.10/dist-packages (from ir-measures>=0.3.1->python-terrier) (1.0.12)\n",
            "Requirement already satisfied: urllib3<1.27,>=1.21.1 in /usr/local/lib/python3.10/dist-packages (from requests->python-terrier) (1.26.16)\n",
            "Requirement already satisfied: certifi>=2017.4.17 in /usr/local/lib/python3.10/dist-packages (from requests->python-terrier) (2023.7.22)\n",
            "Requirement already satisfied: charset-normalizer~=2.0.0 in /usr/local/lib/python3.10/dist-packages (from requests->python-terrier) (2.0.12)\n",
            "Requirement already satisfied: idna<4,>=2.5 in /usr/local/lib/python3.10/dist-packages (from requests->python-terrier) (3.4)\n",
            "Requirement already satisfied: heapdict in /usr/local/lib/python3.10/dist-packages (from chest->python-terrier) (1.0.1)\n",
            "Requirement already satisfied: wrapt<2,>=1.10 in /usr/local/lib/python3.10/dist-packages (from deprecated->python-terrier) (1.14.1)\n",
            "Requirement already satisfied: MarkupSafe>=2.0 in /usr/local/lib/python3.10/dist-packages (from jinja2->python-terrier) (2.1.3)\n",
            "Requirement already satisfied: multiset<3.0,>=2.0 in /usr/local/lib/python3.10/dist-packages (from matchpy->python-terrier) (2.1.1)\n",
            "Requirement already satisfied: python-dateutil>=2.8.1 in /usr/local/lib/python3.10/dist-packages (from pandas->python-terrier) (2.8.2)\n",
            "Requirement already satisfied: pytz>=2020.1 in /usr/local/lib/python3.10/dist-packages (from pandas->python-terrier) (2022.7.1)\n",
            "Requirement already satisfied: threadpoolctl>=2.0.0 in /usr/local/lib/python3.10/dist-packages (from scikit-learn->python-terrier) (3.2.0)\n",
            "Requirement already satisfied: patsy>=0.5.2 in /usr/local/lib/python3.10/dist-packages (from statsmodels->python-terrier) (0.5.3)\n",
            "Requirement already satisfied: packaging>=21.3 in /usr/local/lib/python3.10/dist-packages (from statsmodels->python-terrier) (23.1)\n",
            "Requirement already satisfied: soupsieve>1.2 in /usr/local/lib/python3.10/dist-packages (from beautifulsoup4>=4.4.1->ir-datasets>=0.3.2->python-terrier) (2.4.1)\n",
            "Requirement already satisfied: six in /usr/local/lib/python3.10/dist-packages (from patsy>=0.5.2->statsmodels->python-terrier) (1.16.0)\n",
            "Requirement already satisfied: cbor>=1.0.0 in /usr/local/lib/python3.10/dist-packages (from trec-car-tools>=2.5.4->ir-datasets>=0.3.2->python-terrier) (1.0.0)\n"
          ]
        }
      ]
    },
    {
      "cell_type": "code",
      "source": [
        "import json\n",
        "import os\n",
        "import requests\n",
        "import ir_datasets\n",
        "import random\n",
        "import numpy as np\n",
        "import pandas as pd\n",
        "import pyterrier as pt"
      ],
      "metadata": {
        "id": "MHzLsCPoo19V"
      },
      "execution_count": 2,
      "outputs": []
    },
    {
      "cell_type": "code",
      "execution_count": 3,
      "metadata": {
        "id": "kXqDdSNYjXrb",
        "colab": {
          "base_uri": "https://localhost:8080/"
        },
        "outputId": "34c2d142-ce80-444a-b651-8fbb2f6fc74c"
      },
      "outputs": [
        {
          "output_type": "stream",
          "name": "stdout",
          "text": [
            "Collecting git+https://github.com/allenai/ir_datasets.git@crisisfacts\n",
            "  Cloning https://github.com/allenai/ir_datasets.git (to revision crisisfacts) to /tmp/pip-req-build-qc4hrgyn\n",
            "  Running command git clone --filter=blob:none --quiet https://github.com/allenai/ir_datasets.git /tmp/pip-req-build-qc4hrgyn\n",
            "  Running command git checkout -b crisisfacts --track origin/crisisfacts\n",
            "  Switched to a new branch 'crisisfacts'\n",
            "  Branch 'crisisfacts' set up to track remote branch 'crisisfacts' from 'origin'.\n",
            "  Resolved https://github.com/allenai/ir_datasets.git to commit e2359e24c9546e2a62284cd1aec6138295bb5ec5\n",
            "  Preparing metadata (setup.py) ... \u001b[?25l\u001b[?25hdone\n",
            "Requirement already satisfied: beautifulsoup4>=4.4.1 in /usr/local/lib/python3.10/dist-packages (from ir-datasets==0.5.2) (4.11.2)\n",
            "Requirement already satisfied: lxml>=4.5.2 in /usr/local/lib/python3.10/dist-packages (from ir-datasets==0.5.2) (4.9.3)\n",
            "Requirement already satisfied: numpy>=1.18.1 in /usr/local/lib/python3.10/dist-packages (from ir-datasets==0.5.2) (1.22.4)\n",
            "Requirement already satisfied: pyyaml>=5.3.1 in /usr/local/lib/python3.10/dist-packages (from ir-datasets==0.5.2) (6.0.1)\n",
            "Requirement already satisfied: requests>=2.22.0 in /usr/local/lib/python3.10/dist-packages (from ir-datasets==0.5.2) (2.27.1)\n",
            "Requirement already satisfied: tqdm>=4.38.0 in /usr/local/lib/python3.10/dist-packages (from ir-datasets==0.5.2) (4.65.0)\n",
            "Requirement already satisfied: trec-car-tools>=2.5.4 in /usr/local/lib/python3.10/dist-packages (from ir-datasets==0.5.2) (2.6)\n",
            "Requirement already satisfied: lz4>=3.1.1 in /usr/local/lib/python3.10/dist-packages (from ir-datasets==0.5.2) (4.3.2)\n",
            "Requirement already satisfied: warc3-wet>=0.2.3 in /usr/local/lib/python3.10/dist-packages (from ir-datasets==0.5.2) (0.2.3)\n",
            "Requirement already satisfied: warc3-wet-clueweb09>=0.2.5 in /usr/local/lib/python3.10/dist-packages (from ir-datasets==0.5.2) (0.2.5)\n",
            "Requirement already satisfied: zlib-state>=0.1.3 in /usr/local/lib/python3.10/dist-packages (from ir-datasets==0.5.2) (0.1.5)\n",
            "Requirement already satisfied: ijson>=3.1.3 in /usr/local/lib/python3.10/dist-packages (from ir-datasets==0.5.2) (3.2.3)\n",
            "Requirement already satisfied: pyautocorpus>=0.1.1 in /usr/local/lib/python3.10/dist-packages (from ir-datasets==0.5.2) (0.1.12)\n",
            "Requirement already satisfied: unlzw3>=0.2.1 in /usr/local/lib/python3.10/dist-packages (from ir-datasets==0.5.2) (0.2.2)\n",
            "Requirement already satisfied: soupsieve>1.2 in /usr/local/lib/python3.10/dist-packages (from beautifulsoup4>=4.4.1->ir-datasets==0.5.2) (2.4.1)\n",
            "Requirement already satisfied: urllib3<1.27,>=1.21.1 in /usr/local/lib/python3.10/dist-packages (from requests>=2.22.0->ir-datasets==0.5.2) (1.26.16)\n",
            "Requirement already satisfied: certifi>=2017.4.17 in /usr/local/lib/python3.10/dist-packages (from requests>=2.22.0->ir-datasets==0.5.2) (2023.7.22)\n",
            "Requirement already satisfied: charset-normalizer~=2.0.0 in /usr/local/lib/python3.10/dist-packages (from requests>=2.22.0->ir-datasets==0.5.2) (2.0.12)\n",
            "Requirement already satisfied: idna<4,>=2.5 in /usr/local/lib/python3.10/dist-packages (from requests>=2.22.0->ir-datasets==0.5.2) (3.4)\n",
            "Requirement already satisfied: cbor>=1.0.0 in /usr/local/lib/python3.10/dist-packages (from trec-car-tools>=2.5.4->ir-datasets==0.5.2) (1.0.0)\n"
          ]
        }
      ],
      "source": [
        "!pip install git+https://github.com/allenai/ir_datasets.git@crisisfacts"
      ]
    },
    {
      "cell_type": "code",
      "source": [
        "import datetime\n",
        "import time"
      ],
      "metadata": {
        "id": "PvE6Hyg5e7Vo"
      },
      "execution_count": 4,
      "outputs": []
    },
    {
      "cell_type": "code",
      "source": [
        "credentials = {\n",
        "    \"institution\": \"University of Foo\", # University, Company or Public Agency Name\n",
        "    \"contactname\": \"Foo Bar\", # Your Name\n",
        "    \"email\": \"foo@bar.edu\", # A contact email address\n",
        "    \"institutiontype\": \"Research\" # Either 'Research', 'Industry', or 'Public Sector'\n",
        "}\n",
        "\n",
        "home_dir = os.path.expanduser('~')\n",
        "!mkdir -p ~/.ir_datasets/auth/\n",
        "with open(home_dir + '/.ir_datasets/auth/crisisfacts.json', 'w') as f:\n",
        "    json.dump(credentials, f)"
      ],
      "metadata": {
        "id": "i8-RuLz9oub9"
      },
      "execution_count": 5,
      "outputs": []
    },
    {
      "cell_type": "code",
      "source": [
        "# Event numbers as a list\n",
        "eventNoList = [\n",
        "          \"001\", # Lilac Wildfire 2017\n",
        "          \"002\", # Cranston Wildfire 2018\n",
        "          \"003\", # Holy Wildfire 2018\n",
        "          \"004\", # Hurricane Florence 2018\n",
        "          \"005\", # 2018 Maryland Flood\n",
        "          \"006\", # Saddleridge Wildfire 2019\n",
        "          \"007\", # Hurricane Laura 2020\n",
        "          \"008\" # Hurricane Sally 2020\n",
        "]"
      ],
      "metadata": {
        "id": "QXwAl-NDouYu"
      },
      "execution_count": 6,
      "outputs": []
    },
    {
      "cell_type": "code",
      "source": [
        "import nltk\n",
        "nltk.download('punkt')"
      ],
      "metadata": {
        "colab": {
          "base_uri": "https://localhost:8080/"
        },
        "id": "-XON16WgDHh-",
        "outputId": "24a12b95-16e3-4bd0-b28e-9f2bcba59112"
      },
      "execution_count": 7,
      "outputs": [
        {
          "output_type": "stream",
          "name": "stderr",
          "text": [
            "[nltk_data] Downloading package punkt to /root/nltk_data...\n",
            "[nltk_data]   Package punkt is already up-to-date!\n"
          ]
        },
        {
          "output_type": "execute_result",
          "data": {
            "text/plain": [
              "True"
            ]
          },
          "metadata": {},
          "execution_count": 7
        }
      ]
    },
    {
      "cell_type": "code",
      "source": [
        "nltk.download('all')"
      ],
      "metadata": {
        "colab": {
          "base_uri": "https://localhost:8080/"
        },
        "id": "lJjfmwWGtTUK",
        "outputId": "7caec58e-5825-44e2-b000-67e5d044effa"
      },
      "execution_count": 8,
      "outputs": [
        {
          "output_type": "stream",
          "name": "stderr",
          "text": [
            "[nltk_data] Downloading collection 'all'\n",
            "[nltk_data]    | \n",
            "[nltk_data]    | Downloading package abc to /root/nltk_data...\n",
            "[nltk_data]    |   Package abc is already up-to-date!\n",
            "[nltk_data]    | Downloading package alpino to /root/nltk_data...\n",
            "[nltk_data]    |   Package alpino is already up-to-date!\n",
            "[nltk_data]    | Downloading package averaged_perceptron_tagger to\n",
            "[nltk_data]    |     /root/nltk_data...\n",
            "[nltk_data]    |   Package averaged_perceptron_tagger is already up-\n",
            "[nltk_data]    |       to-date!\n",
            "[nltk_data]    | Downloading package averaged_perceptron_tagger_ru to\n",
            "[nltk_data]    |     /root/nltk_data...\n",
            "[nltk_data]    |   Package averaged_perceptron_tagger_ru is already\n",
            "[nltk_data]    |       up-to-date!\n",
            "[nltk_data]    | Downloading package basque_grammars to\n",
            "[nltk_data]    |     /root/nltk_data...\n",
            "[nltk_data]    |   Package basque_grammars is already up-to-date!\n",
            "[nltk_data]    | Downloading package bcp47 to /root/nltk_data...\n",
            "[nltk_data]    |   Package bcp47 is already up-to-date!\n",
            "[nltk_data]    | Downloading package biocreative_ppi to\n",
            "[nltk_data]    |     /root/nltk_data...\n",
            "[nltk_data]    |   Package biocreative_ppi is already up-to-date!\n",
            "[nltk_data]    | Downloading package bllip_wsj_no_aux to\n",
            "[nltk_data]    |     /root/nltk_data...\n",
            "[nltk_data]    |   Package bllip_wsj_no_aux is already up-to-date!\n",
            "[nltk_data]    | Downloading package book_grammars to\n",
            "[nltk_data]    |     /root/nltk_data...\n",
            "[nltk_data]    |   Package book_grammars is already up-to-date!\n",
            "[nltk_data]    | Downloading package brown to /root/nltk_data...\n",
            "[nltk_data]    |   Package brown is already up-to-date!\n",
            "[nltk_data]    | Downloading package brown_tei to /root/nltk_data...\n",
            "[nltk_data]    |   Package brown_tei is already up-to-date!\n",
            "[nltk_data]    | Downloading package cess_cat to /root/nltk_data...\n",
            "[nltk_data]    |   Package cess_cat is already up-to-date!\n",
            "[nltk_data]    | Downloading package cess_esp to /root/nltk_data...\n",
            "[nltk_data]    |   Package cess_esp is already up-to-date!\n",
            "[nltk_data]    | Downloading package chat80 to /root/nltk_data...\n",
            "[nltk_data]    |   Package chat80 is already up-to-date!\n",
            "[nltk_data]    | Downloading package city_database to\n",
            "[nltk_data]    |     /root/nltk_data...\n",
            "[nltk_data]    |   Package city_database is already up-to-date!\n",
            "[nltk_data]    | Downloading package cmudict to /root/nltk_data...\n",
            "[nltk_data]    |   Package cmudict is already up-to-date!\n",
            "[nltk_data]    | Downloading package comparative_sentences to\n",
            "[nltk_data]    |     /root/nltk_data...\n",
            "[nltk_data]    |   Package comparative_sentences is already up-to-\n",
            "[nltk_data]    |       date!\n",
            "[nltk_data]    | Downloading package comtrans to /root/nltk_data...\n",
            "[nltk_data]    |   Package comtrans is already up-to-date!\n",
            "[nltk_data]    | Downloading package conll2000 to /root/nltk_data...\n",
            "[nltk_data]    |   Package conll2000 is already up-to-date!\n",
            "[nltk_data]    | Downloading package conll2002 to /root/nltk_data...\n",
            "[nltk_data]    |   Package conll2002 is already up-to-date!\n",
            "[nltk_data]    | Downloading package conll2007 to /root/nltk_data...\n",
            "[nltk_data]    |   Package conll2007 is already up-to-date!\n",
            "[nltk_data]    | Downloading package crubadan to /root/nltk_data...\n",
            "[nltk_data]    |   Package crubadan is already up-to-date!\n",
            "[nltk_data]    | Downloading package dependency_treebank to\n",
            "[nltk_data]    |     /root/nltk_data...\n",
            "[nltk_data]    |   Package dependency_treebank is already up-to-date!\n",
            "[nltk_data]    | Downloading package dolch to /root/nltk_data...\n",
            "[nltk_data]    |   Package dolch is already up-to-date!\n",
            "[nltk_data]    | Downloading package europarl_raw to\n",
            "[nltk_data]    |     /root/nltk_data...\n",
            "[nltk_data]    |   Package europarl_raw is already up-to-date!\n",
            "[nltk_data]    | Downloading package extended_omw to\n",
            "[nltk_data]    |     /root/nltk_data...\n",
            "[nltk_data]    |   Package extended_omw is already up-to-date!\n",
            "[nltk_data]    | Downloading package floresta to /root/nltk_data...\n",
            "[nltk_data]    |   Package floresta is already up-to-date!\n",
            "[nltk_data]    | Downloading package framenet_v15 to\n",
            "[nltk_data]    |     /root/nltk_data...\n",
            "[nltk_data]    |   Package framenet_v15 is already up-to-date!\n",
            "[nltk_data]    | Downloading package framenet_v17 to\n",
            "[nltk_data]    |     /root/nltk_data...\n",
            "[nltk_data]    |   Package framenet_v17 is already up-to-date!\n",
            "[nltk_data]    | Downloading package gazetteers to /root/nltk_data...\n",
            "[nltk_data]    |   Package gazetteers is already up-to-date!\n",
            "[nltk_data]    | Downloading package genesis to /root/nltk_data...\n",
            "[nltk_data]    |   Package genesis is already up-to-date!\n",
            "[nltk_data]    | Downloading package gutenberg to /root/nltk_data...\n",
            "[nltk_data]    |   Package gutenberg is already up-to-date!\n",
            "[nltk_data]    | Downloading package ieer to /root/nltk_data...\n",
            "[nltk_data]    |   Package ieer is already up-to-date!\n",
            "[nltk_data]    | Downloading package inaugural to /root/nltk_data...\n",
            "[nltk_data]    |   Package inaugural is already up-to-date!\n",
            "[nltk_data]    | Downloading package indian to /root/nltk_data...\n",
            "[nltk_data]    |   Package indian is already up-to-date!\n",
            "[nltk_data]    | Downloading package jeita to /root/nltk_data...\n",
            "[nltk_data]    |   Package jeita is already up-to-date!\n",
            "[nltk_data]    | Downloading package kimmo to /root/nltk_data...\n",
            "[nltk_data]    |   Package kimmo is already up-to-date!\n",
            "[nltk_data]    | Downloading package knbc to /root/nltk_data...\n",
            "[nltk_data]    |   Package knbc is already up-to-date!\n",
            "[nltk_data]    | Downloading package large_grammars to\n",
            "[nltk_data]    |     /root/nltk_data...\n",
            "[nltk_data]    |   Package large_grammars is already up-to-date!\n",
            "[nltk_data]    | Downloading package lin_thesaurus to\n",
            "[nltk_data]    |     /root/nltk_data...\n",
            "[nltk_data]    |   Package lin_thesaurus is already up-to-date!\n",
            "[nltk_data]    | Downloading package mac_morpho to /root/nltk_data...\n",
            "[nltk_data]    |   Package mac_morpho is already up-to-date!\n",
            "[nltk_data]    | Downloading package machado to /root/nltk_data...\n",
            "[nltk_data]    |   Package machado is already up-to-date!\n",
            "[nltk_data]    | Downloading package masc_tagged to /root/nltk_data...\n",
            "[nltk_data]    |   Package masc_tagged is already up-to-date!\n",
            "[nltk_data]    | Downloading package maxent_ne_chunker to\n",
            "[nltk_data]    |     /root/nltk_data...\n",
            "[nltk_data]    |   Package maxent_ne_chunker is already up-to-date!\n",
            "[nltk_data]    | Downloading package maxent_treebank_pos_tagger to\n",
            "[nltk_data]    |     /root/nltk_data...\n",
            "[nltk_data]    |   Package maxent_treebank_pos_tagger is already up-\n",
            "[nltk_data]    |       to-date!\n",
            "[nltk_data]    | Downloading package moses_sample to\n",
            "[nltk_data]    |     /root/nltk_data...\n",
            "[nltk_data]    |   Package moses_sample is already up-to-date!\n",
            "[nltk_data]    | Downloading package movie_reviews to\n",
            "[nltk_data]    |     /root/nltk_data...\n",
            "[nltk_data]    |   Package movie_reviews is already up-to-date!\n",
            "[nltk_data]    | Downloading package mte_teip5 to /root/nltk_data...\n",
            "[nltk_data]    |   Package mte_teip5 is already up-to-date!\n",
            "[nltk_data]    | Downloading package mwa_ppdb to /root/nltk_data...\n",
            "[nltk_data]    |   Package mwa_ppdb is already up-to-date!\n",
            "[nltk_data]    | Downloading package names to /root/nltk_data...\n",
            "[nltk_data]    |   Package names is already up-to-date!\n",
            "[nltk_data]    | Downloading package nombank.1.0 to /root/nltk_data...\n",
            "[nltk_data]    |   Package nombank.1.0 is already up-to-date!\n",
            "[nltk_data]    | Downloading package nonbreaking_prefixes to\n",
            "[nltk_data]    |     /root/nltk_data...\n",
            "[nltk_data]    |   Package nonbreaking_prefixes is already up-to-date!\n",
            "[nltk_data]    | Downloading package nps_chat to /root/nltk_data...\n",
            "[nltk_data]    |   Package nps_chat is already up-to-date!\n",
            "[nltk_data]    | Downloading package omw to /root/nltk_data...\n",
            "[nltk_data]    |   Package omw is already up-to-date!\n",
            "[nltk_data]    | Downloading package omw-1.4 to /root/nltk_data...\n",
            "[nltk_data]    |   Package omw-1.4 is already up-to-date!\n",
            "[nltk_data]    | Downloading package opinion_lexicon to\n",
            "[nltk_data]    |     /root/nltk_data...\n",
            "[nltk_data]    |   Package opinion_lexicon is already up-to-date!\n",
            "[nltk_data]    | Downloading package panlex_swadesh to\n",
            "[nltk_data]    |     /root/nltk_data...\n",
            "[nltk_data]    |   Package panlex_swadesh is already up-to-date!\n",
            "[nltk_data]    | Downloading package paradigms to /root/nltk_data...\n",
            "[nltk_data]    |   Package paradigms is already up-to-date!\n",
            "[nltk_data]    | Downloading package pe08 to /root/nltk_data...\n",
            "[nltk_data]    |   Package pe08 is already up-to-date!\n",
            "[nltk_data]    | Downloading package perluniprops to\n",
            "[nltk_data]    |     /root/nltk_data...\n",
            "[nltk_data]    |   Package perluniprops is already up-to-date!\n",
            "[nltk_data]    | Downloading package pil to /root/nltk_data...\n",
            "[nltk_data]    |   Package pil is already up-to-date!\n",
            "[nltk_data]    | Downloading package pl196x to /root/nltk_data...\n",
            "[nltk_data]    |   Package pl196x is already up-to-date!\n",
            "[nltk_data]    | Downloading package porter_test to /root/nltk_data...\n",
            "[nltk_data]    |   Package porter_test is already up-to-date!\n",
            "[nltk_data]    | Downloading package ppattach to /root/nltk_data...\n",
            "[nltk_data]    |   Package ppattach is already up-to-date!\n",
            "[nltk_data]    | Downloading package problem_reports to\n",
            "[nltk_data]    |     /root/nltk_data...\n",
            "[nltk_data]    |   Package problem_reports is already up-to-date!\n",
            "[nltk_data]    | Downloading package product_reviews_1 to\n",
            "[nltk_data]    |     /root/nltk_data...\n",
            "[nltk_data]    |   Package product_reviews_1 is already up-to-date!\n",
            "[nltk_data]    | Downloading package product_reviews_2 to\n",
            "[nltk_data]    |     /root/nltk_data...\n",
            "[nltk_data]    |   Package product_reviews_2 is already up-to-date!\n",
            "[nltk_data]    | Downloading package propbank to /root/nltk_data...\n",
            "[nltk_data]    |   Package propbank is already up-to-date!\n",
            "[nltk_data]    | Downloading package pros_cons to /root/nltk_data...\n",
            "[nltk_data]    |   Package pros_cons is already up-to-date!\n",
            "[nltk_data]    | Downloading package ptb to /root/nltk_data...\n",
            "[nltk_data]    |   Package ptb is already up-to-date!\n",
            "[nltk_data]    | Downloading package punkt to /root/nltk_data...\n",
            "[nltk_data]    |   Package punkt is already up-to-date!\n",
            "[nltk_data]    | Downloading package qc to /root/nltk_data...\n",
            "[nltk_data]    |   Package qc is already up-to-date!\n",
            "[nltk_data]    | Downloading package reuters to /root/nltk_data...\n",
            "[nltk_data]    |   Package reuters is already up-to-date!\n",
            "[nltk_data]    | Downloading package rslp to /root/nltk_data...\n",
            "[nltk_data]    |   Package rslp is already up-to-date!\n",
            "[nltk_data]    | Downloading package rte to /root/nltk_data...\n",
            "[nltk_data]    |   Package rte is already up-to-date!\n",
            "[nltk_data]    | Downloading package sample_grammars to\n",
            "[nltk_data]    |     /root/nltk_data...\n",
            "[nltk_data]    |   Package sample_grammars is already up-to-date!\n",
            "[nltk_data]    | Downloading package semcor to /root/nltk_data...\n",
            "[nltk_data]    |   Package semcor is already up-to-date!\n",
            "[nltk_data]    | Downloading package senseval to /root/nltk_data...\n",
            "[nltk_data]    |   Package senseval is already up-to-date!\n",
            "[nltk_data]    | Downloading package sentence_polarity to\n",
            "[nltk_data]    |     /root/nltk_data...\n",
            "[nltk_data]    |   Package sentence_polarity is already up-to-date!\n",
            "[nltk_data]    | Downloading package sentiwordnet to\n",
            "[nltk_data]    |     /root/nltk_data...\n",
            "[nltk_data]    |   Package sentiwordnet is already up-to-date!\n",
            "[nltk_data]    | Downloading package shakespeare to /root/nltk_data...\n",
            "[nltk_data]    |   Package shakespeare is already up-to-date!\n",
            "[nltk_data]    | Downloading package sinica_treebank to\n",
            "[nltk_data]    |     /root/nltk_data...\n",
            "[nltk_data]    |   Package sinica_treebank is already up-to-date!\n",
            "[nltk_data]    | Downloading package smultron to /root/nltk_data...\n",
            "[nltk_data]    |   Package smultron is already up-to-date!\n",
            "[nltk_data]    | Downloading package snowball_data to\n",
            "[nltk_data]    |     /root/nltk_data...\n",
            "[nltk_data]    |   Package snowball_data is already up-to-date!\n",
            "[nltk_data]    | Downloading package spanish_grammars to\n",
            "[nltk_data]    |     /root/nltk_data...\n",
            "[nltk_data]    |   Package spanish_grammars is already up-to-date!\n",
            "[nltk_data]    | Downloading package state_union to /root/nltk_data...\n",
            "[nltk_data]    |   Package state_union is already up-to-date!\n",
            "[nltk_data]    | Downloading package stopwords to /root/nltk_data...\n",
            "[nltk_data]    |   Package stopwords is already up-to-date!\n",
            "[nltk_data]    | Downloading package subjectivity to\n",
            "[nltk_data]    |     /root/nltk_data...\n",
            "[nltk_data]    |   Package subjectivity is already up-to-date!\n",
            "[nltk_data]    | Downloading package swadesh to /root/nltk_data...\n",
            "[nltk_data]    |   Package swadesh is already up-to-date!\n",
            "[nltk_data]    | Downloading package switchboard to /root/nltk_data...\n",
            "[nltk_data]    |   Package switchboard is already up-to-date!\n",
            "[nltk_data]    | Downloading package tagsets to /root/nltk_data...\n",
            "[nltk_data]    |   Package tagsets is already up-to-date!\n",
            "[nltk_data]    | Downloading package timit to /root/nltk_data...\n",
            "[nltk_data]    |   Package timit is already up-to-date!\n",
            "[nltk_data]    | Downloading package toolbox to /root/nltk_data...\n",
            "[nltk_data]    |   Package toolbox is already up-to-date!\n",
            "[nltk_data]    | Downloading package treebank to /root/nltk_data...\n",
            "[nltk_data]    |   Package treebank is already up-to-date!\n",
            "[nltk_data]    | Downloading package twitter_samples to\n",
            "[nltk_data]    |     /root/nltk_data...\n",
            "[nltk_data]    |   Package twitter_samples is already up-to-date!\n",
            "[nltk_data]    | Downloading package udhr to /root/nltk_data...\n",
            "[nltk_data]    |   Package udhr is already up-to-date!\n",
            "[nltk_data]    | Downloading package udhr2 to /root/nltk_data...\n",
            "[nltk_data]    |   Package udhr2 is already up-to-date!\n",
            "[nltk_data]    | Downloading package unicode_samples to\n",
            "[nltk_data]    |     /root/nltk_data...\n",
            "[nltk_data]    |   Package unicode_samples is already up-to-date!\n",
            "[nltk_data]    | Downloading package universal_tagset to\n",
            "[nltk_data]    |     /root/nltk_data...\n",
            "[nltk_data]    |   Package universal_tagset is already up-to-date!\n",
            "[nltk_data]    | Downloading package universal_treebanks_v20 to\n",
            "[nltk_data]    |     /root/nltk_data...\n",
            "[nltk_data]    |   Package universal_treebanks_v20 is already up-to-\n",
            "[nltk_data]    |       date!\n",
            "[nltk_data]    | Downloading package vader_lexicon to\n",
            "[nltk_data]    |     /root/nltk_data...\n",
            "[nltk_data]    |   Package vader_lexicon is already up-to-date!\n",
            "[nltk_data]    | Downloading package verbnet to /root/nltk_data...\n",
            "[nltk_data]    |   Package verbnet is already up-to-date!\n",
            "[nltk_data]    | Downloading package verbnet3 to /root/nltk_data...\n",
            "[nltk_data]    |   Package verbnet3 is already up-to-date!\n",
            "[nltk_data]    | Downloading package webtext to /root/nltk_data...\n",
            "[nltk_data]    |   Package webtext is already up-to-date!\n",
            "[nltk_data]    | Downloading package wmt15_eval to /root/nltk_data...\n",
            "[nltk_data]    |   Package wmt15_eval is already up-to-date!\n",
            "[nltk_data]    | Downloading package word2vec_sample to\n",
            "[nltk_data]    |     /root/nltk_data...\n",
            "[nltk_data]    |   Package word2vec_sample is already up-to-date!\n",
            "[nltk_data]    | Downloading package wordnet to /root/nltk_data...\n",
            "[nltk_data]    |   Package wordnet is already up-to-date!\n",
            "[nltk_data]    | Downloading package wordnet2021 to /root/nltk_data...\n",
            "[nltk_data]    |   Package wordnet2021 is already up-to-date!\n",
            "[nltk_data]    | Downloading package wordnet2022 to /root/nltk_data...\n",
            "[nltk_data]    |   Package wordnet2022 is already up-to-date!\n",
            "[nltk_data]    | Downloading package wordnet31 to /root/nltk_data...\n",
            "[nltk_data]    |   Package wordnet31 is already up-to-date!\n",
            "[nltk_data]    | Downloading package wordnet_ic to /root/nltk_data...\n",
            "[nltk_data]    |   Package wordnet_ic is already up-to-date!\n",
            "[nltk_data]    | Downloading package words to /root/nltk_data...\n",
            "[nltk_data]    |   Package words is already up-to-date!\n",
            "[nltk_data]    | Downloading package ycoe to /root/nltk_data...\n",
            "[nltk_data]    |   Package ycoe is already up-to-date!\n",
            "[nltk_data]    | \n",
            "[nltk_data]  Done downloading collection all\n"
          ]
        },
        {
          "output_type": "execute_result",
          "data": {
            "text/plain": [
              "True"
            ]
          },
          "metadata": {},
          "execution_count": 8
        }
      ]
    },
    {
      "cell_type": "code",
      "source": [
        "import nltk\n",
        "from nltk.corpus import stopwords\n",
        "from nltk.tokenize import word_tokenize\n",
        "from nltk.stem import WordNetLemmatizer\n",
        "from sklearn.feature_extraction.text import TfidfVectorizer\n",
        "import numpy as np\n",
        "import random"
      ],
      "metadata": {
        "id": "kG8dhb6Qp2Yd"
      },
      "execution_count": 9,
      "outputs": []
    },
    {
      "cell_type": "code",
      "source": [
        "def similarity(texts,input_string):\n",
        "  # Preprocess the input string and the texts\n",
        "  stop_words = set(stopwords.words('english'))\n",
        "  lemmatizer = WordNetLemmatizer()\n",
        "\n",
        "  def preprocess(text):\n",
        "      tokens = word_tokenize(text.lower())\n",
        "      tokens = [lemmatizer.lemmatize(token) for token in tokens if token.isalnum() and token not in stop_words]\n",
        "      return \" \".join(tokens)\n",
        "\n",
        "  input_processed = preprocess(input_string)\n",
        "  texts_processed = [preprocess(text) for text in texts]\n",
        "\n",
        "  # Compute the TF-IDF vectors for the input string and the texts\n",
        "  vectorizer = TfidfVectorizer()\n",
        "  vectors = vectorizer.fit_transform(texts_processed + [input_processed])\n",
        "\n",
        "  # Compute the cosine similarity between the input vector and the text vectors\n",
        "  input_vector = vectors[-1]\n",
        "  text_vectors = vectors[:-1]\n",
        "  similarities = np.dot(text_vectors, input_vector.T).toarray().flatten()\n",
        "\n",
        "  # Find the index of the text with the highest similarity\n",
        "  max_index = np.argmax(similarities)\n",
        "\n",
        "  # Return the text with the highest similarity\n",
        "  most_similar_text = texts[max_index]\n",
        "\n",
        "  return most_similar_text"
      ],
      "metadata": {
        "id": "mr2TbvZUp66L"
      },
      "execution_count": 10,
      "outputs": []
    },
    {
      "cell_type": "code",
      "source": [
        "# Gets the list of days for a specified event number, e.g. '001'\n",
        "def getDaysForEventNo(eventNo):\n",
        "  # We will download a file containing the day list for an event\n",
        "  url = \"http://trecis.org/CrisisFACTs/CrisisFACTS-\"+eventNo+\".requests.json\"\n",
        "  # Download the list and parse as JSON\n",
        "  dayList = requests.get(url).json()\n",
        "  return dayList"
      ],
      "metadata": {
        "id": "oFA0vhSbouVh"
      },
      "execution_count": 11,
      "outputs": []
    },
    {
      "cell_type": "code",
      "source": [
        "import datetime\n",
        "from transformers import BartTokenizer, BartForConditionalGeneration\n",
        "\n",
        "# Load the BART-based summarization model and tokenizer\n",
        "model_name = \"facebook/bart-base\"\n",
        "tokenizer = BartTokenizer.from_pretrained(model_name)\n",
        "model = BartForConditionalGeneration.from_pretrained(model_name)\n"
      ],
      "metadata": {
        "id": "hjazIZH-u5Y3"
      },
      "execution_count": 12,
      "outputs": []
    },
    {
      "cell_type": "markdown",
      "source": [
        "### BART model"
      ],
      "metadata": {
        "id": "lQdUa6SDQUAF"
      }
    },
    {
      "cell_type": "code",
      "source": [
        "from transformers import BartTokenizer, BartForConditionalGeneration\n",
        "\n",
        "# Load the BART-based summarization model and tokenizer\n",
        "model_name = \"facebook/bart-base\"\n",
        "tokenizer = BartTokenizer.from_pretrained(model_name)\n",
        "model = BartForConditionalGeneration.from_pretrained(model_name)\n"
      ],
      "metadata": {
        "id": "DZf0y1T1MRYS"
      },
      "execution_count": 14,
      "outputs": []
    },
    {
      "cell_type": "code",
      "source": [
        "def summary_bart(query,retriever):\n",
        "  query_df=pd.DataFrame(retriever.search(query))\n",
        "  texts=list(query_df['text'])\n",
        "  scores=list(query_df['score'])\n",
        "  # Generate summaries using BART, with weights based on scores\n",
        "  weighted_summaries = []\n",
        "  for i in range(len(texts)):\n",
        "      # Tokenize the text\n",
        "      inputs = tokenizer(texts[i], return_tensors=\"pt\", truncation=True, padding=True)\n",
        "\n",
        "      # Generate a summary with the specified length and weights\n",
        "      summary = model.generate(\n",
        "          inputs[\"input_ids\"],\n",
        "          attention_mask=inputs[\"attention_mask\"],\n",
        "          length_penalty=2.0,\n",
        "          min_length=10,\n",
        "          max_length=40,\n",
        "          num_beams=4,\n",
        "          early_stopping=True,\n",
        "          repetition_penalty=1.0,\n",
        "          no_repeat_ngram_size=2,\n",
        "          decoder_start_token_id=model.config.pad_token_id,\n",
        "          num_return_sequences=1,\n",
        "          output_scores=True,\n",
        "      )\n",
        "\n",
        "      # Decode the summary and append to the list of summaries\n",
        "      summary_text = tokenizer.decode(summary[0], skip_special_tokens=True)\n",
        "      weighted_summaries.append(summary_text)\n",
        "\n",
        "  # Print the summaries\n",
        "  sum=''\n",
        "  for summary in weighted_summaries:\n",
        "      sum+=summary\n",
        "  return sum"
      ],
      "metadata": {
        "id": "FRTU6_t_MGUs"
      },
      "execution_count": 15,
      "outputs": []
    },
    {
      "cell_type": "code",
      "source": [
        "def dataset_pyterier(data_link):\n",
        "  if not pt.started():\n",
        "    pt.init()\n",
        "  data_link = \"irds:\"+data_link\n",
        "  print(data_link)\n",
        "  pyTerrierDataset = pt.get_dataset(data_link)\n",
        "  print(\"no\")\n",
        "  indexer = pt.IterDictIndexer(\"None\", type=pt.index.IndexingType(3), meta=['docno', 'text'], meta_lengths=[40, 200])\n",
        "  index = indexer.index(pyTerrierDataset.get_corpus_iter())\n",
        "  retriever = pt.BatchRetrieve(index, wmodel=\"DFReeKLIM\", metadata=[\"docno\", \"text\"])\n",
        "  return retriever"
      ],
      "metadata": {
        "id": "rWoDpWJOSETO"
      },
      "execution_count": 16,
      "outputs": []
    },
    {
      "cell_type": "code",
      "source": [
        "def summary(event,query):\n",
        "  event_days = getDaysForEventNo(event)\n",
        "  # Dates for a particular event\n",
        "  days_list = []\n",
        "  for d in event_days:\n",
        "    days_list.append(d[\"dateString\"])\n",
        "  print(days_list)\n",
        "  day=str(input())\n",
        "  event_day_data = 'crisisfacts/'+event+'/'+day\n",
        "  # dataset = ir_datasets.load(event_day_data)\n",
        "  # itemsAsDataFrame = pd.DataFrame(dataset.docs_iter())\n",
        "  # itemQueries = pd.DataFrame(dataset.queries_iter())\n",
        "\n",
        "  retriever = dataset_pyterier(event_day_data)\n",
        "  print(\"yes\")\n",
        "  a=summary_bart(query,retriever)\n",
        "  print(\"*********************************************************************************************************************************\")\n",
        "\n",
        "  return a"
      ],
      "metadata": {
        "id": "Y6mYJXVGmjC7"
      },
      "execution_count": 17,
      "outputs": []
    },
    {
      "cell_type": "code",
      "source": [
        "summary(\"001\",\"injuries\")"
      ],
      "metadata": {
        "id": "2bkZ0C6Fmmvd",
        "colab": {
          "base_uri": "https://localhost:8080/",
          "height": 427,
          "referenced_widgets": [
            "fac675e17da14837931515d74c66da76",
            "c04b2cca82f9401a80085de6e6a56211",
            "3f1ccfefd8554df7a7840716d9edb023",
            "f57efd0d31864162bbddf81bd7eba38b",
            "e2c80f3a34a545d9adba083fa62a3494",
            "9fc3f11a28d44c1a9f0322a9cc684ad8",
            "52e6d95e2ba547e59673a3bb3976cbd1",
            "f3d37670c11242cb83b6cfd6ab9632a9",
            "8d514829315348299131658c2b08e1ec",
            "099ffd0bd847419f8c19790528a0c7a4",
            "323fde411ba049aebb4594335a1ecad8"
          ]
        },
        "outputId": "0ee76d88-b129-47b4-b41a-d548355b7bc0"
      },
      "execution_count": 18,
      "outputs": [
        {
          "name": "stdout",
          "output_type": "stream",
          "text": [
            "['2017-12-07', '2017-12-08', '2017-12-09', '2017-12-10', '2017-12-11', '2017-12-12', '2017-12-13', '2017-12-14', '2017-12-15']\n",
            "2017-12-07\n"
          ]
        },
        {
          "output_type": "stream",
          "name": "stderr",
          "text": [
            "PyTerrier 0.9.2 has loaded Terrier 5.7 (built by craigm on 2022-11-10 18:30) and terrier-helper 0.0.7\n",
            "\n"
          ]
        },
        {
          "output_type": "stream",
          "name": "stdout",
          "text": [
            "irds:crisisfacts/001/2017-12-07\n",
            "no\n"
          ]
        },
        {
          "output_type": "stream",
          "name": "stderr",
          "text": [
            "[INFO] [starting] building docstore\n",
            "[INFO] [starting] requesting access key\n",
            "[INFO] [finished] requesting access key [1.33s]\n",
            "docs_iter: 7288doc [00:08, 843.96doc/s]\n",
            "[INFO] [finished] docs_iter: [00:08] [7288doc] [843.84doc/s]\n",
            "[INFO] [finished] building docstore [8.68s]\n"
          ]
        },
        {
          "output_type": "display_data",
          "data": {
            "text/plain": [
              "crisisfacts/001/2017-12-07 documents: 0it [00:00, ?it/s]"
            ],
            "application/vnd.jupyter.widget-view+json": {
              "version_major": 2,
              "version_minor": 0,
              "model_id": "fac675e17da14837931515d74c66da76"
            }
          },
          "metadata": {}
        },
        {
          "output_type": "stream",
          "name": "stdout",
          "text": [
            "yes\n",
            "12:28:55.086 [main] WARN org.terrier.querying.ApplyTermPipeline - The index has no termpipelines configuration, and no control configuration is found. Defaulting to global termpipelines configuration of 'Stopwords,PorterStemmer'. Set a termpipelines control to remove this warning.\n",
            "*********************************************************************************************************************************\n"
          ]
        },
        {
          "output_type": "execute_result",
          "data": {
            "text/plain": [
              "\"A San Diego County Sheriff's Department deputy suffered minor injuries while directing traffic.Two civilians are being treated for burn injuries suffered in #LilacFire and are taking to a hospital, https://t.co/Q2EOJFPVvIHeadon collision between Sheriff's vehicle and private vehicle in thick smoke #LilacFire  Moderate damage, no injuries reportedUPDATE: #LilacFire now 2000 acres, 0% containment.  Â Two civilians are being treated for burn injuries suffered in https://t.co/Dp4Strong winds and low humidity fueling the Lilac Fire burning in Bonsall. To add insult to injury the Red Flag Warni https://t.co/FlpsJPuTS CAL FIRE/SAN DIEGO COUNTY FIRE (@CALFIRESANDIEGo) December 8, 2017  Four residents sustained burn injuries as they were evacuating their home,Besides the civilian injuries, one firefighter suffered smoke inhalation.It was not clear if it was a factor in the injury.\""
            ],
            "application/vnd.google.colaboratory.intrinsic+json": {
              "type": "string"
            }
          },
          "metadata": {},
          "execution_count": 18
        }
      ]
    },
    {
      "cell_type": "code",
      "source": [
        "summary(\"006\",\"Is the whole forest burnt\")"
      ],
      "metadata": {
        "colab": {
          "base_uri": "https://localhost:8080/",
          "height": 410,
          "referenced_widgets": [
            "d3afd62f9d7648e8b31cea4767ee2e99",
            "8661ccb03045408da697178440f4ff01",
            "abc98eaf0cb0438b9248c3ed54367ef7",
            "3cd815524434460eb3ca04ad0f78118e",
            "1144f1ce84c04486bcdda573a8293f17",
            "9428667baf41485dab8e4cd71479a141",
            "207ea26c08d14d328760d51e1d1381c2",
            "481b773c1fee480991b9de3411f0cbcc",
            "91e51e20082a4b0cb4d13a8a8f71fbcf",
            "610e2039accf4406b4644dc2f0a6884d",
            "bd07dfd6d1dc436694b89abb404ac0b1"
          ]
        },
        "id": "wozB8o9CivN-",
        "outputId": "700c6118-8dd1-43eb-9d7a-8b9bbaa828c1"
      },
      "execution_count": 19,
      "outputs": [
        {
          "name": "stdout",
          "output_type": "stream",
          "text": [
            "['2019-10-10', '2019-10-11', '2019-10-12', '2019-10-13']\n",
            "2019-10-10\n"
          ]
        },
        {
          "output_type": "stream",
          "name": "stderr",
          "text": [
            "[INFO] [starting] building docstore\n"
          ]
        },
        {
          "output_type": "stream",
          "name": "stdout",
          "text": [
            "irds:crisisfacts/006/2019-10-10\n",
            "no\n"
          ]
        },
        {
          "output_type": "stream",
          "name": "stderr",
          "text": [
            "[INFO] [starting] requesting access key\n",
            "[INFO] [finished] requesting access key [1.01s]\n",
            "docs_iter: 6993doc [00:06, 1150.93doc/s]\n",
            "[INFO] [finished] docs_iter: [00:06] [6993doc] [1150.60doc/s]\n",
            "[INFO] [finished] building docstore [6.09s]\n"
          ]
        },
        {
          "output_type": "display_data",
          "data": {
            "text/plain": [
              "crisisfacts/006/2019-10-10 documents: 0it [00:00, ?it/s]"
            ],
            "application/vnd.jupyter.widget-view+json": {
              "version_major": 2,
              "version_minor": 0,
              "model_id": "d3afd62f9d7648e8b31cea4767ee2e99"
            }
          },
          "metadata": {}
        },
        {
          "output_type": "stream",
          "name": "stdout",
          "text": [
            "yes\n",
            "12:29:35.195 [main] WARN org.terrier.querying.ApplyTermPipeline - The index has no termpipelines configuration, and no control configuration is found. Defaulting to global termpipelines configuration of 'Stopwords,PorterStemmer'. Set a termpipelines control to remove this warning.\n",
            "*********************************************************************************************************************************\n"
          ]
        },
        {
          "output_type": "execute_result",
          "data": {
            "text/plain": [
              "\"Can we take these people out of the forest @WalkingDead_AMC?! Weve only seen this forest for like 5 years now. Pl https://t.co/i burnt myself cooking and we have zero bandages in my house, so im making do with scotch tape and toilet paperLeafys rooting for LAs urban forest + the @Dodgers tonight! https://t.co/qetbgUeaLZAn illustrious career including prominent roles in films such as Forest Gump, Contact, Apollo 13, Cast Away to an a https://t.co/neekLa8ZTM@FNMATTTT @MannyJoose The sad thing is the Nats have no chance at actually winning the whole thing lolWhy have I been fooling around my whole life. If I wanted to win I shouldve liked the Yankees.@lovelyness_8 you play a whole season to get to the playoffs lol no other reasonThis whole time... I thought they where talking about @KREAYSHAWN and how she did something at the #Dodgersgame... https://t.co/uEB@PatsLadi99 @MollyJongFast The whole gun thing is a joke to them...and don't get me started on the bible.Im about to curse my daddy out, he said hell be at my house in 10 minutes its been a whole 30 when I say I love @Harry_Styles with my whole heart.... I literally mean itFell in love with Mila kunis 5 different times between the whole show@CaliNinjaPanda1 Bro a whole ass week  we got time. Going to nightmare?@aaalmeidaaaa Bro thats why when the raiders lose I dont watch ESPN for the whole week  lol@darry_us1949 @bbylayaaa lmfaooo this whole time I thought he was saying NASA Saddest thing is when they mess up your coffee order and your whole morning is ruined@MDGAPodcast Me reading that whole back and forth. Also nice burner account  https://t.co/pmDEabBlktJust know its real if I sing A Whole New Workd to you cause that shit is hard@bachisdead_ No way!!! You captured the essence! We just got out of the show, and we're laughing the whole way home.8th of October I did more tricks than treats. Laundry, sweeping and the whole Cinderella thing. https://t.co/omju0k4CjtIt's very rare for the whole Glendale team to be in the office at the same time, so I had to capture it for posteri https://t.co/PVi need to work i need the job i have to get the kids out of the house i want the kid out the door i think that sentence has been on repeat the whole day..HE KILLED A WHOLE 22 PEOPLE THIS BITCH IS GUILTY ASF IDC WHO TF HE ISI need a chiropractor to vibe check my whole existence@Harry_Styles literally love you with my whole heart@jerseyshorerose @thehill Some rugs pull the whole room togetherEffort!  The Whole Play! #benwatson  @nfl @CostaDomenic #jvfootball #froshfootball#sanpedrop@LaundoStark Bro I didnt wake up at no 4 in the morning to watch a L before work my whole day go be off smh@_KillaKali_ I couldnt find the black part my whole two years there lol I lived in Carmel valleyThis game over once Kershaw gave up those 2 HRs I think the whole team had the air sucked outta them@CeeJaay36 @ClintSmithIII Or it wasn't next door to the cop, because the whole case was about the police shooting some https://t.co/This whole packing up thing is really hard. Movin' out of here on Monday and Tuesday. Moving into the new place Mon https://t.co/NNzvJTI struggle to do simple addition sometimes, yet I just did a whole research methods and stats assignment using only https://t.co/lN6FaRixgm@MikeFrancesa This whole idea of using relief pitchers throughout the regular season and then suddenly using starte https://t.co/L9yoiaHPsi@Ejisbeast I fell asleep at the two minute mark but Bron and AD wasnt in the whole fourth damn near so did they really lose?I really gotta put a stop to this whole Ill reply rn mindset bcus rnn never fkn comes and everyone thinks Im a https://t.co/EpphTxMy #ootd from disneyland yesterday!  We had *so* much fun and got to meet the whole spooky gang dr.frankendenim spo https://IT IS TOO WINDY AND I CANNOT THINK. I know that sounds weird, but really, a windy day in Los Angeles is a whole oth https://So....were just moving on from the whole alphabet and the numbers thing?@Noahpinion @Stitched I've been watching worlds and casters have been referring to hong kong attitude by their full name the whole time?Why??? For thousand years whole middle east and east europe was under Seljuk and ottoman empire turks ruling until https://t.co/YKPWoUXWell, now I hope the Nationals win the whole thing. That way they can say the only thing that was holding them back https://t.co/XHEJq2fThis man got a whole girl &amp; a baby otw or a brand new baby and tryna snatch up sumn new ers.@CaliNinjaPanda1 @Paradox_Artist I should be. I dont normally have my whole next week planned haha. Just let me know when through DM@TopGearGo They can but its not going to help. When the potential NL MVP had like 3 hits the whole series, and Sea https://t.co/Kl2If you ever forget how big and fucking influential Harry Potter was, just remember it inspired a whole new music ge https://t.co/9lwRqpVIjFTBT:Venice Beach. Nothin but California Love my whole time there. When you've been Coast to Coast and Border to Bor https://t.co/3ShShout out to Robert, Alexis &amp; the whole crew @pizzarevco in #VanNuys...Left my wallet there last night and didnt r https://i almost worked a whole 8.5 hrs today but my mom is making me pick her up from work :/ fuck it tho its tax money anywaysSome Report Three Layers of Smoke over the San Fernando Valley  There was a whole lot of smoke in the air Friday evening, after the Saddleridge Fire filled the sky with smokePeace out Los Angeles its been a fun 5 years but I need to return to merry old England to handle this whole Brexit https://t.co/IMhKSy8u2A whole new facial mask experience for me! This pretty pink biovenebarcelona peel left my skin feeling baby soft BU https://t.co/X84Kei4ctThis whole time i thought i was playong ppl on mario kart tour. Theyre just bots still. I can close phone and wait https://t.co/3I wonder when Im gone sleep through the whole night\""
            ],
            "application/vnd.google.colaboratory.intrinsic+json": {
              "type": "string"
            }
          },
          "metadata": {},
          "execution_count": 19
        }
      ]
    },
    {
      "cell_type": "markdown",
      "source": [
        "### BART - TIMESTAMP"
      ],
      "metadata": {
        "id": "dDuS98CnlKSI"
      }
    },
    {
      "cell_type": "code",
      "source": [
        "def summary_bart1(texts):\n",
        "  # Generate summaries using BART, with weights based on scores\n",
        "  weighted_summaries = []\n",
        "  for i in range(len(texts)):\n",
        "      # Tokenize the text\n",
        "      inputs = tokenizer(texts[i], return_tensors=\"pt\", truncation=True, padding=True)\n",
        "\n",
        "      # Generate a summary with the specified length and weights\n",
        "      summary = model.generate(\n",
        "          inputs[\"input_ids\"],\n",
        "          attention_mask=inputs[\"attention_mask\"],\n",
        "          length_penalty=2.0,\n",
        "          min_length=10,\n",
        "          max_length=40,\n",
        "          num_beams=4,\n",
        "          early_stopping=True,\n",
        "          repetition_penalty=1.0,\n",
        "          no_repeat_ngram_size=2,\n",
        "          decoder_start_token_id=model.config.pad_token_id,\n",
        "          num_return_sequences=1,\n",
        "          output_scores=True,\n",
        "      )\n",
        "\n",
        "      # Decode the summary and append to the list of summaries\n",
        "      summary_text = tokenizer.decode(summary[0], skip_special_tokens=True)\n",
        "      weighted_summaries.append(summary_text)\n",
        "\n",
        "  # Print the summaries\n",
        "  sum=''\n",
        "  for summary in weighted_summaries:\n",
        "      sum+=summary\n",
        "  return sum"
      ],
      "metadata": {
        "id": "ibH6CibzvZPo"
      },
      "execution_count": 23,
      "outputs": []
    },
    {
      "cell_type": "code",
      "source": [
        "def date_timestamp(date_str,start_time_str,end_time_str):\n",
        "  time_diff = \"+00:00\"\n",
        "  start_dt = datetime.datetime.strptime(date_str + \" \" + start_time_str, \"%Y-%m-%d %H:%M:%S\")\n",
        "  end_dt = datetime.datetime.strptime(date_str + \" \" + end_time_str, \"%Y-%m-%d %H:%M:%S\")\n",
        "\n",
        "  # Convert datetime objects to Unix timestamps\n",
        "  start_ts = int(start_dt.replace(tzinfo=datetime.timezone(datetime.timedelta(hours=int(time_diff[1:3])))).timestamp())\n",
        "  end_ts = int(end_dt.replace(tzinfo=datetime.timezone(datetime.timedelta(hours=int(time_diff[1:3])))).timestamp())\n",
        "\n",
        "  return start_ts,end_ts\n",
        "\n",
        "def timestamp_date(start_ts,end_ts):\n",
        "  # Convert Unix timestamps to datetime objects\n",
        "  start_dt = datetime.datetime.utcfromtimestamp(start_ts)\n",
        "  end_dt = datetime.datetime.utcfromtimestamp(end_ts)\n",
        "\n",
        "  # Convert datetime objects to date and time strings\n",
        "  date_str = start_dt.strftime(\"%Y-%m-%d\")\n",
        "  start_time_str = start_dt.strftime(\"%H:%M:%S\")\n",
        "  end_time_str = end_dt.strftime(\"%H:%M:%S\")\n",
        "\n",
        "  return start_time_str,end_time_str\n",
        "\n",
        "\n",
        "\n",
        "def unixtotime(ts_list,date_str):\n",
        "  # Convert date string to datetime object\n",
        "  date_dt = datetime.datetime.strptime(date_str, \"%Y-%m-%d\").date()\n",
        "\n",
        "  # Filter the list to timestamps for the given date\n",
        "  ts_for_date = [ts for ts in ts_list if datetime.datetime.utcfromtimestamp(ts).date() == date_dt]\n",
        "  min_ts = min(ts_for_date)\n",
        "  max_ts = max(ts_for_date)\n",
        "  min_dt = datetime.datetime.utcfromtimestamp(min_ts)\n",
        "  max_dt = datetime.datetime.utcfromtimestamp(max_ts)\n",
        "\n",
        "    # Convert datetime objects to time strings\n",
        "  min_time_str = min_dt.strftime(\"%H:%M:%S\")\n",
        "  max_time_str = max_dt.strftime(\"%H:%M:%S\")\n",
        "\n",
        "  return min_time_str , max_time_str\n",
        "\n",
        "\n",
        "\n",
        "def important_texts(que,items_df,mini_stamp,maxi_stamp):\n",
        "  que_l = que.split(\" \")\n",
        "  txts = list(items_df[\"text\"])\n",
        "  t_stmps = list(items_df[\"unix_timestamp\"])\n",
        "  imp_txts = []\n",
        "  for i in range(len(txts)):\n",
        "    cnt = 0\n",
        "    for q in que_l:\n",
        "      if q in txts[i] and (mini_stamp<= t_stmps[i] <=maxi_stamp):\n",
        "        imp_txts.append(txts[i])\n",
        "        break\n",
        "    #     cnt+=1\n",
        "    # if cnt == len(que_l):\n",
        "    #   imp_txts.append(txts[i])\n",
        "\n",
        "  return imp_txts"
      ],
      "metadata": {
        "id": "_zJ_4NgueaiI"
      },
      "execution_count": 24,
      "outputs": []
    },
    {
      "cell_type": "code",
      "source": [
        "def summary(event):\n",
        "  event_days = getDaysForEventNo(event)\n",
        "  # Dates for a particular event\n",
        "  days_list = []\n",
        "  for d in event_days:\n",
        "    days_list.append(d[\"dateString\"])\n",
        "  print(days_list)\n",
        "  day=str(input())\n",
        "  event_day_data = 'crisisfacts/'+event+'/'+day\n",
        "  dataset = ir_datasets.load(event_day_data)\n",
        "  itemsAsDataFrame = pd.DataFrame(dataset.docs_iter())\n",
        "  itemQueries = pd.DataFrame(dataset.queries_iter())\n",
        "\n",
        "  # --------- for queries --------------\n",
        "\n",
        "  ind_terms = list(itemQueries[\"indicative_terms\"])\n",
        "  query = random.choice(ind_terms)\n",
        "\n",
        "\n",
        "  # ----------for timestamps----------\n",
        "  time_stamps = list(itemsAsDataFrame[\"unix_timestamp\"])\n",
        "\n",
        "  mini_time , maxi_time = unixtotime(time_stamps,day)\n",
        "\n",
        "  print(f\"Select the time range from {mini_time} to {maxi_time}\")\n",
        "  time_st = str(input())\n",
        "  time_en = str(input())\n",
        "  mini_stamp , maxi_stamp = date_timestamp(day,time_st,time_en)\n",
        "  # print(mini_stamp , maxi_stamp)\n",
        "\n",
        "  print(query)\n",
        "  req_texts = important_texts(query,itemsAsDataFrame,mini_stamp,maxi_stamp)\n",
        "  # -------- BART MODEL -----------\n",
        "  final_Summ = summary_bart1(req_texts)\n",
        "\n",
        "  return final_Summ"
      ],
      "metadata": {
        "id": "KS_QNlvrouDh"
      },
      "execution_count": 25,
      "outputs": []
    },
    {
      "cell_type": "code",
      "source": [
        "summary(\"001\")"
      ],
      "metadata": {
        "id": "FVupos-KouAn",
        "colab": {
          "base_uri": "https://localhost:8080/",
          "height": 256
        },
        "outputId": "52b346c0-e4c9-4631-eecf-7d2195be99fc"
      },
      "execution_count": 26,
      "outputs": [
        {
          "output_type": "stream",
          "name": "stdout",
          "text": [
            "['2017-12-07', '2017-12-08', '2017-12-09', '2017-12-10', '2017-12-11', '2017-12-12', '2017-12-13', '2017-12-14', '2017-12-15']\n",
            "2017-12-07\n",
            "Select the time range from 00:00:00 to 23:59:56\n",
            "00:02:03\n",
            "22:58:59\n",
            "volunteer\n"
          ]
        },
        {
          "output_type": "execute_result",
          "data": {
            "text/plain": [
              "\"Great volunteers and friends at @lgbtcenter’s GGG Game & Lamp; Trivia… https://t.co/CkhaXrOPRXOur parent volunteers were snapping tons of photos and video from tonights Advent Candle Celebration. More video cl… https://t.co/kRsCmv4kFlThe Del Mar Fairgrounds Animal Evacuation Center is currently fully staffed with volunteers but a spokeswoman for the center said people who wish to volunteer on Friday can show up beginning at 6 aFor more information on how to volunteer visit here.VOLUNTEERING  San Diego County was looking for volunteers for their 211 call center.Anyone interested in volunteering through Red Cross can sign up here.Also, a uniform dispatch system provides seamless communication between agencies, small volunteer fire districts have been consolidated and strengthened and power lines are even more closely monitoredOfficials for the county's information line, 2-1- 1, said Thursday evening they were in need of volunteers at their call center, where people affected by the fire were looking forThe San Diego County Humane Society said they are not in need of volunteers at this time, but those wishing to help can donate pet supplies and food by going to their Amazon wish list.\""
            ],
            "application/vnd.google.colaboratory.intrinsic+json": {
              "type": "string"
            }
          },
          "metadata": {},
          "execution_count": 26
        }
      ]
    },
    {
      "cell_type": "code",
      "source": [
        "summary(\"004\")"
      ],
      "metadata": {
        "colab": {
          "base_uri": "https://localhost:8080/",
          "height": 378
        },
        "id": "W4chNR5QJrC1",
        "outputId": "9404f61d-92ba-4a66-c471-1b91d3dcc79b"
      },
      "execution_count": 29,
      "outputs": [
        {
          "name": "stdout",
          "output_type": "stream",
          "text": [
            "['2018-09-01', '2018-09-04', '2018-09-05', '2018-09-07', '2018-09-08', '2018-09-09', '2018-09-10', '2018-09-11', '2018-09-12', '2018-09-13', '2018-09-14', '2018-09-15', '2018-09-16', '2018-09-17', '2018-09-18']\n",
            "2018-09-01\n"
          ]
        },
        {
          "output_type": "stream",
          "name": "stderr",
          "text": [
            "[INFO] [starting] building docstore\n",
            "[INFO] [starting] requesting access key\n",
            "[INFO] [finished] requesting access key [240ms]\n",
            "docs_iter: 7959doc [00:01, 5052.44doc/s]\n",
            "[INFO] [finished] docs_iter: [00:01] [7959doc] [5046.12doc/s]\n",
            "[INFO] [finished] building docstore [1.58s]\n",
            "[INFO] [starting] requesting access key\n",
            "[INFO] [finished] requesting access key [193ms]\n"
          ]
        },
        {
          "output_type": "stream",
          "name": "stdout",
          "text": [
            "Select the time range from 00:18:48 to 22:52:50\n",
            "00:20:50\n",
            "20:50:50\n",
            "shelters\n"
          ]
        },
        {
          "output_type": "execute_result",
          "data": {
            "text/plain": [
              "\"Per weather channel: “Authorities in Charleston say shelters cant sustain above cat 3”  Well. Fuck.Just in case anything bad happens,  does anybody know if any shelters in South Carolina allow dogs?Have them current on their shots and have records, I think. Once shelters start to open they announce which ones are pet friendly.Too soon for that, but yes there will be shelters for people with animals.I am not aware of any shelters that take animals only, based on past evacuations, but could be wrong.Edit: And there are always local shelters that would allow her to stay relatively close to home.https://em911.nhcgov.com/be-prepared-ready-nuhc/shelters-evacuation/Even if you have to resort to emergency shelters that's better than being in a flooded home or a mobile/premanufactured home.If you want, leave him a list of shelters in the area and your counties emergency management number.\""
            ],
            "application/vnd.google.colaboratory.intrinsic+json": {
              "type": "string"
            }
          },
          "metadata": {},
          "execution_count": 29
        }
      ]
    }
  ]
}